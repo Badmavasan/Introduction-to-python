{
  "nbformat": 4,
  "nbformat_minor": 0,
  "metadata": {
    "colab": {
      "provenance": []
    },
    "kernelspec": {
      "name": "python3",
      "display_name": "Python 3"
    },
    "language_info": {
      "name": "python"
    }
  },
  "cells": [
    {
      "cell_type": "markdown",
      "source": [
        "# Dictionary\n",
        "\n",
        "Un dictionnaire en Python est une collection non ordonnée d'éléments sous forme de paires clé : valeur. Chaque clé doit être unique et immuable (les types courants pour les clés sont les chaînes de caractères, les nombres, etc.), tandis que les valeurs peuvent être de n'importe quel type, y compris des objets modifiables comme des listes ou d'autres dictionnaires.\n",
        "\n",
        "**Exemple :**\n",
        "\n"
      ],
      "metadata": {
        "id": "pAkV1xMw6t_H"
      }
    },
    {
      "cell_type": "code",
      "source": [
        "# Définir un dictionnaire\n",
        "mon_dictionnaire = {\n",
        "    'nom': 'Alice',\n",
        "    'age': 25,\n",
        "    'ville': 'Paris'\n",
        "}\n",
        "print(mon_dictionnaire)"
      ],
      "metadata": {
        "colab": {
          "base_uri": "https://localhost:8080/"
        },
        "id": "LjUGzDCo8nNG",
        "outputId": "696c1e6c-f220-43f5-a2d7-d8db3b964d01"
      },
      "execution_count": 1,
      "outputs": [
        {
          "output_type": "stream",
          "name": "stdout",
          "text": [
            "{'nom': 'Alice', 'age': 25, 'ville': 'Paris'}\n"
          ]
        }
      ]
    },
    {
      "cell_type": "markdown",
      "source": [
        "## Différence par rapport aux Listes\n",
        "\n",
        "Contrairement aux listes, qui sont des collections ordonnées d'éléments accessibles par leur index, les dictionnaires sont des collections non ordonnées où les éléments sont accessibles par leurs clés. Les listes sont généralement utilisées pour stocker des séquences d'éléments similaires, tandis que les dictionnaires sont utilisés pour stocker des associations clé-valeur.\n",
        "\n",
        "**Exemple d'une Liste :**"
      ],
      "metadata": {
        "id": "r1exenS78sA3"
      }
    },
    {
      "cell_type": "code",
      "source": [
        "# Liste d'éléments\n",
        "ma_liste = [10, 20, 30]\n",
        "print(ma_liste)"
      ],
      "metadata": {
        "colab": {
          "base_uri": "https://localhost:8080/"
        },
        "id": "MXNz8I9d8xS8",
        "outputId": "aa6241c3-892b-48a5-b940-f12e4e4c3b22"
      },
      "execution_count": 2,
      "outputs": [
        {
          "output_type": "stream",
          "name": "stdout",
          "text": [
            "[10, 20, 30]\n"
          ]
        }
      ]
    },
    {
      "cell_type": "markdown",
      "source": [
        "**Exemple d'un Dictionnaire :**"
      ],
      "metadata": {
        "id": "-x7QOu-I80cQ"
      }
    },
    {
      "cell_type": "code",
      "source": [
        "# Dictionnaire d'éléments\n",
        "mon_dictionnaire = {'a': 10, 'b': 20, 'c': 30}\n",
        "print(mon_dictionnaire)"
      ],
      "metadata": {
        "id": "e4ocGea38zXA"
      },
      "execution_count": null,
      "outputs": []
    },
    {
      "cell_type": "markdown",
      "source": [
        "## Les Clés et Valeurs\n",
        "\n",
        "Les clés dans un dictionnaire sont uniques et immuables. Elles permettent d'accéder aux valeurs correspondantes. Les valeurs, quant à elles, peuvent être de n'importe quel type et peuvent même être des collections comme des listes, des tuples, ou d'autres dictionnaires.\n",
        "\n",
        "**Exemple :**"
      ],
      "metadata": {
        "id": "x7l70SLl87Il"
      }
    },
    {
      "cell_type": "code",
      "source": [
        "# Accéder à une valeur via une clé\n",
        "nom = mon_dictionnaire['nom']  # 'Alice'\n",
        "print(nom)"
      ],
      "metadata": {
        "colab": {
          "base_uri": "https://localhost:8080/"
        },
        "id": "MopGIbPx9AA6",
        "outputId": "d510c37d-22fa-4e4d-e816-3e73c31be68f"
      },
      "execution_count": 3,
      "outputs": [
        {
          "output_type": "stream",
          "name": "stdout",
          "text": [
            "Alice\n"
          ]
        }
      ]
    },
    {
      "cell_type": "markdown",
      "source": [
        "**`keys()` et `values()`**\n",
        "\n",
        "- La méthode `keys()` renvoie une vue contenant toutes les clés du dictionnaire.\n",
        "- La méthode `values()` renvoie une vue contenant toutes les valeurs du dictionnaire.\n",
        "\n",
        "**Exemple :**"
      ],
      "metadata": {
        "id": "BAPaKBzx9Cqy"
      }
    },
    {
      "cell_type": "code",
      "source": [
        "# Utilisation de keys() et values()\n",
        "cles = mon_dictionnaire.keys()  # renvoie dict_keys(['nom', 'age', 'ville'])\n",
        "valeurs = mon_dictionnaire.values()  # renvoie dict_values(['Alice', 25, 'Paris'])\n",
        "print(cles, valeurs)"
      ],
      "metadata": {
        "colab": {
          "base_uri": "https://localhost:8080/"
        },
        "id": "hf6g9IZ59B2y",
        "outputId": "c74acd61-8c52-42e2-e0de-d6f4513d59eb"
      },
      "execution_count": 4,
      "outputs": [
        {
          "output_type": "stream",
          "name": "stdout",
          "text": [
            "dict_keys(['nom', 'age', 'ville']) dict_values(['Alice', 25, 'Paris'])\n"
          ]
        }
      ]
    },
    {
      "cell_type": "markdown",
      "source": [
        "## Ajouter une Entrée dans un Dictionnaire\n",
        "\n",
        "Pour ajouter une nouvelle paire clé-valeur à un dictionnaire, il suffit d'attribuer une valeur à une nouvelle clé.\n",
        "\n",
        "**Exemple :**"
      ],
      "metadata": {
        "id": "6U0utnwW9WAI"
      }
    },
    {
      "cell_type": "code",
      "source": [
        "# Ajouter une nouvelle entrée\n",
        "mon_dictionnaire['profession'] = 'Ingénieure'\n",
        "print(mon_dictionnaire)"
      ],
      "metadata": {
        "colab": {
          "base_uri": "https://localhost:8080/"
        },
        "id": "4qcZILt89Ykw",
        "outputId": "dd2bce0f-7985-442f-84e4-bee6e3c5dc84"
      },
      "execution_count": 5,
      "outputs": [
        {
          "output_type": "stream",
          "name": "stdout",
          "text": [
            "{'nom': 'Alice', 'age': 25, 'ville': 'Paris', 'profession': 'Ingénieure'}\n"
          ]
        }
      ]
    },
    {
      "cell_type": "markdown",
      "source": [
        "## Supprimer une Entrée dans un Dictionnaire\n",
        "\n",
        "Pour supprimer une entrée, vous pouvez utiliser la méthode `del` ou la méthode `pop()`.\n",
        "\n",
        "**Exemple avec `del` :**"
      ],
      "metadata": {
        "id": "QdFwUOx29d2q"
      }
    },
    {
      "cell_type": "code",
      "source": [
        "# Supprimer une entrée avec del\n",
        "del mon_dictionnaire['age']\n",
        "print(mon_dictionnaire)"
      ],
      "metadata": {
        "colab": {
          "base_uri": "https://localhost:8080/"
        },
        "id": "ovZIQOwj9bAB",
        "outputId": "50b382d4-9ddd-4bb6-ebac-ad9b4fb83580"
      },
      "execution_count": 6,
      "outputs": [
        {
          "output_type": "stream",
          "name": "stdout",
          "text": [
            "{'nom': 'Alice', 'ville': 'Paris', 'profession': 'Ingénieure'}\n"
          ]
        }
      ]
    },
    {
      "cell_type": "markdown",
      "source": [
        "**Exemple avec `pop()` :**"
      ],
      "metadata": {
        "id": "ffjfQ4R-9qGQ"
      }
    },
    {
      "cell_type": "code",
      "source": [
        "# Supprimer une entrée avec pop() (renvoie la valeur supprimée)\n",
        "mon_dictionnaire.pop('ville')\n",
        "print(mon_dictionnaire)"
      ],
      "metadata": {
        "colab": {
          "base_uri": "https://localhost:8080/"
        },
        "id": "6i6V34In9oUW",
        "outputId": "e49b2125-3b74-4d78-b962-910a0c75e47b"
      },
      "execution_count": 7,
      "outputs": [
        {
          "output_type": "stream",
          "name": "stdout",
          "text": [
            "{'nom': 'Alice', 'profession': 'Ingénieure'}\n"
          ]
        }
      ]
    },
    {
      "cell_type": "markdown",
      "source": [
        "## Vérifier si une Clé Existe dans un Dictionnaire\n",
        "\n",
        "Pour vérifier si une clé existe dans un dictionnaire, vous pouvez utiliser l'opérateur in.\n",
        "\n",
        "**Exemple :**"
      ],
      "metadata": {
        "id": "4OeiveI59xFn"
      }
    },
    {
      "cell_type": "code",
      "source": [
        "# Vérifier si la clé 'nom' existe\n",
        "'nom' in mon_dictionnaire  # True"
      ],
      "metadata": {
        "colab": {
          "base_uri": "https://localhost:8080/"
        },
        "id": "0cJ-1ULG9vdh",
        "outputId": "7c50e3ab-9e2e-4ec9-d932-33294c90d7b5"
      },
      "execution_count": 8,
      "outputs": [
        {
          "output_type": "execute_result",
          "data": {
            "text/plain": [
              "True"
            ]
          },
          "metadata": {},
          "execution_count": 8
        }
      ]
    },
    {
      "cell_type": "markdown",
      "source": [
        "## Autres Opérations Possibles sur les Dictionnaires\n",
        "\n",
        "- `update()` : Cette méthode permet de mettre à jour un dictionnaire avec des paires clé-valeur d'un autre dictionnaire ou d'une liste de tuples.\n",
        "- `clear()` : Efface tous les éléments du dictionnaire.\n",
        "- `get()` : Récupère la valeur associée à une clé, sans lever d'erreur si la clé n'existe pas.\n",
        "- `copy()` : Crée une copie superficielle du dictionnaire.\n",
        "\n",
        "**Exemple :**"
      ],
      "metadata": {
        "id": "oNC8_QWN920-"
      }
    },
    {
      "cell_type": "code",
      "source": [
        "# Utilisation de update()\n",
        "mon_dictionnaire.update({'pays': 'France', 'age': 26})\n",
        "print(mon_dictionnaire)\n",
        "\n",
        "# Utilisation de get()\n",
        "age = mon_dictionnaire.get('age')\n",
        "print(age)\n",
        "\n",
        "# Utilisation de copy()\n",
        "copie_dictionnaire = mon_dictionnaire.copy()\n",
        "print(copie_dictionnaire, mon_dictionnaire)\n",
        "\n",
        "# Utilisation de clear()\n",
        "mon_dictionnaire.clear()\n",
        "print(mon_dictionnaire)"
      ],
      "metadata": {
        "colab": {
          "base_uri": "https://localhost:8080/"
        },
        "id": "cCBG162t90ka",
        "outputId": "b5695113-8704-478c-ceba-d408a7a93651"
      },
      "execution_count": 9,
      "outputs": [
        {
          "output_type": "stream",
          "name": "stdout",
          "text": [
            "{'nom': 'Alice', 'profession': 'Ingénieure', 'pays': 'France', 'age': 26}\n",
            "26\n",
            "{'nom': 'Alice', 'profession': 'Ingénieure', 'pays': 'France', 'age': 26} {'nom': 'Alice', 'profession': 'Ingénieure', 'pays': 'France', 'age': 26}\n",
            "{}\n"
          ]
        }
      ]
    },
    {
      "cell_type": "markdown",
      "source": [
        "# Exercices de Programmation sur les Dictionnaires\n",
        "\n",
        "1. Créer un dictionnaire avec trois entrées et accéder à la valeur d'une clé spécifique.\n",
        "2. Ajouter une nouvelle entrée dans un dictionnaire existant.\n",
        "3. Supprimer une clé spécifique du dictionnaire.\n",
        "4. Vérifier si une clé existe dans un dictionnaire.\n",
        "5. Utiliser `get()` pour récupérer une valeur sans lever d'exception si la clé n'existe pas.\n",
        "6. Fusionner deux dictionnaires en utilisant la méthode `update`"
      ],
      "metadata": {
        "id": "V8NkuOYb-VrD"
      }
    }
  ]
}
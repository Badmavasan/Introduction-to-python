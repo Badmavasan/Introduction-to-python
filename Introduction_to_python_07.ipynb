{
  "nbformat": 4,
  "nbformat_minor": 0,
  "metadata": {
    "colab": {
      "provenance": []
    },
    "kernelspec": {
      "name": "python3",
      "display_name": "Python 3"
    },
    "language_info": {
      "name": "python"
    }
  },
  "cells": [
    {
      "cell_type": "markdown",
      "source": [
        "# Conditions `if`, `else`, `elif` en Python\n",
        "\n",
        "Les instructions conditionnelles en Python permettent d'exécuter du code en fonction de certaines conditions. Cela est essentiel pour écrire des programmes qui s'adaptent à différentes situations et pour prendre des décisions.\n",
        "\n",
        "**Syntaxe Générale**\n",
        "\n",
        "```\n",
        "if condition:\n",
        "    # bloc de code exécuté si la condition est vraie\n",
        "elif autre_condition:\n",
        "    # bloc de code exécuté si l'autre_condition est vraie\n",
        "else:\n",
        "    # bloc de code exécuté si aucune des conditions précédentes n'est vraie\n",
        "```\n",
        "\n",
        "## Exemple de la Vie Réelle : Vérification de l'âge pour un film\n",
        "\n",
        "Disons que vous gérez l'accès à un film selon l'âge des spectateurs. Voici comment cela pourrait se faire en Python avec if, elif, et else :\n",
        "\n",
        "**Exemple :**"
      ],
      "metadata": {
        "id": "lcWpiV7BKdTL"
      }
    },
    {
      "cell_type": "code",
      "source": [
        "age = 20\n",
        "\n",
        "if age < 12:\n",
        "    print(\"Désolé, vous êtes trop jeune pour ce film.\")\n",
        "elif 12 <= age < 18:\n",
        "    print(\"Vous pouvez regarder le film avec un adulte.\")\n",
        "else:\n",
        "    print(\"Vous pouvez regarder le film.\")"
      ],
      "metadata": {
        "colab": {
          "base_uri": "https://localhost:8080/"
        },
        "id": "Ta5R4XLIL9Wc",
        "outputId": "44a68395-f483-4364-8843-2efbe779fd78"
      },
      "execution_count": null,
      "outputs": [
        {
          "output_type": "stream",
          "name": "stdout",
          "text": [
            "Vous pouvez regarder le film.\n"
          ]
        }
      ]
    },
    {
      "cell_type": "markdown",
      "source": [
        "Dans cet exemple, l'utilisateur verra un message différent en fonction de son âge.\n",
        "\n",
        "## and, or, not : Opérateurs Logiques\n",
        "\n",
        "Les opérateurs logiques permettent de combiner plusieurs conditions ensemble dans une seule instruction conditionnelle.\n",
        "\n",
        "- `and` : Les deux conditions doivent être vraies pour que le résultat soit vrai.\n",
        "- `or` : Au moins une des conditions doit être vraie pour que le résultat soit vrai.\n",
        "- `not` : Inverse la valeur d'une condition (si elle est vraie, elle devient fausse, et vice-versa).\n",
        "\n",
        "**Exemple 1 :**\n",
        "\n",
        "Imaginons que vous gérez une boutique en ligne, et que vous vouliez offrir une réduction uniquement aux utilisateurs qui sont inscrits et qui ont passé au moins une commande."
      ],
      "metadata": {
        "id": "3seLV7oqMOcr"
      }
    },
    {
      "cell_type": "code",
      "source": [
        "inscrit = True\n",
        "commande = 1\n",
        "\n",
        "if inscrit and commande > 0:\n",
        "    print(\"Vous avez droit à une réduction.\")\n",
        "else:\n",
        "    print(\"Pas de réduction, inscrivez-vous ou commandez.\")\n"
      ],
      "metadata": {
        "colab": {
          "base_uri": "https://localhost:8080/"
        },
        "id": "g5PJ2X_5MGAS",
        "outputId": "af4a0b14-4f05-463b-a6b9-54193dde8275"
      },
      "execution_count": null,
      "outputs": [
        {
          "output_type": "stream",
          "name": "stdout",
          "text": [
            "Vous avez droit à une réduction.\n"
          ]
        }
      ]
    },
    {
      "cell_type": "markdown",
      "source": [
        "Dans cet exemple, l'utilisateur doit être inscrit et avoir passé au moins une commande pour recevoir une réduction.\n",
        "\n",
        "**Exemple 2 :**\n",
        "\n",
        "Disons que vous êtes dans un jeu vidéo, et que vous gagnez un bonus si vous atteignez soit un certain score, soit un certain niveau."
      ],
      "metadata": {
        "id": "rtAHIwMOMfzH"
      }
    },
    {
      "cell_type": "code",
      "source": [
        "score = 800\n",
        "niveau = 3\n",
        "\n",
        "if score > 1000 or niveau >= 5:\n",
        "    print(\"Félicitations, vous gagnez un bonus !\")\n",
        "else:\n",
        "    print(\"Continuez à jouer pour gagner un bonus.\")"
      ],
      "metadata": {
        "colab": {
          "base_uri": "https://localhost:8080/"
        },
        "id": "BphpQk2XMe-O",
        "outputId": "fb42b7fb-1b35-4a15-b813-15f222bdde38"
      },
      "execution_count": null,
      "outputs": [
        {
          "output_type": "stream",
          "name": "stdout",
          "text": [
            "Continuez à jouer pour gagner un bonus.\n"
          ]
        }
      ]
    },
    {
      "cell_type": "markdown",
      "source": [
        "Dans ce cas, l'utilisateur gagne un bonus si l'une des conditions est vraie.\n",
        "\n",
        "**Exemple 3 :**\n",
        "\n",
        "Supposons que vous devez vérifier si un utilisateur n'est pas encore inscrit à un service pour lui envoyer une invitation."
      ],
      "metadata": {
        "id": "jtJT5TOsMmP8"
      }
    },
    {
      "cell_type": "code",
      "source": [
        "inscrit = False\n",
        "\n",
        "if not inscrit:\n",
        "    print(\"Envoyer une invitation.\")\n",
        "else:\n",
        "    print(\"L'utilisateur est déjà inscrit.\")"
      ],
      "metadata": {
        "colab": {
          "base_uri": "https://localhost:8080/"
        },
        "id": "53-aqVj3MluK",
        "outputId": "81c8c534-563f-4568-e055-1080a0928664"
      },
      "execution_count": null,
      "outputs": [
        {
          "output_type": "stream",
          "name": "stdout",
          "text": [
            "Envoyer une invitation.\n"
          ]
        }
      ]
    },
    {
      "cell_type": "markdown",
      "source": [
        "Ici, l'invitation est envoyée uniquement si l'utilisateur n'est pas déjà inscrit.\n",
        "Combiner les Opérateurs Logiques\n",
        "\n",
        "Il est possible de combiner plusieurs opérateurs logiques dans une seule condition.\n",
        "\n",
        "**Exemple : Accès à un événement VIP**\n",
        "\n",
        "Vous souhaitez gérer l'accès à un événement spécial. Pour accéder, il faut soit être membre VIP, soit avoir un billet valide, et il faut que l'événement ne soit pas complet."
      ],
      "metadata": {
        "id": "GSMc5bqKMt-D"
      }
    },
    {
      "cell_type": "code",
      "source": [
        "vip = True\n",
        "billet_valide = False\n",
        "complet = False\n",
        "\n",
        "if (vip or billet_valide) and not complet:\n",
        "    print(\"Accès autorisé à l'événement.\")\n",
        "else:\n",
        "    print(\"Désolé, l'accès est refusé.\")"
      ],
      "metadata": {
        "colab": {
          "base_uri": "https://localhost:8080/"
        },
        "id": "YpVzlyD-MtfY",
        "outputId": "6650618f-d151-4414-9295-3765ccf6f9de"
      },
      "execution_count": null,
      "outputs": [
        {
          "output_type": "stream",
          "name": "stdout",
          "text": [
            "Accès autorisé à l'événement.\n"
          ]
        }
      ]
    },
    {
      "cell_type": "markdown",
      "source": [
        "Dans cet exemple, l'utilisateur peut entrer s'il est VIP ou a un billet valide, tant que l'événement n'est pas complet.\n",
        "\n",
        "# Exercices de Programmation avec `if`, `else`, `elif`\n",
        "\n",
        "Voici 6 exercices qui utilisent les conditions `if`, `else`, `elif`, de difficulté moyenne à élevée :\n",
        "\n",
        "1. Calcul de l'impôt : Vous devez calculer le montant de l'impôt basé sur les revenus. Si les revenus sont inférieurs à 10 000 €, l'impôt est de 0%. Entre 10 000 € et 30 000 €, l'impôt est de 15%. Au-delà de 30 000 €, l'impôt est de 30%.\n"
      ],
      "metadata": {
        "id": "9Llb6P-uMznn"
      }
    },
    {
      "cell_type": "code",
      "source": [
        "revenus = 25000\n",
        "if revenus < 10000:\n",
        "  impot = 0\n",
        "elif 10000 <= revenus <= 30000:\n",
        "  impot = revenus * 0.15\n",
        "else:\n",
        "  impot = revenus * 0.30\n",
        "print(f\"Pour des revenus de {revenus} €, l'impôt est de {impot} €.\")\n"
      ],
      "metadata": {
        "colab": {
          "base_uri": "https://localhost:8080/"
        },
        "id": "LuTYqBpr-PwR",
        "outputId": "297594c5-fd11-4acb-f1cc-bd868524de69"
      },
      "execution_count": 1,
      "outputs": [
        {
          "output_type": "stream",
          "name": "stdout",
          "text": [
            "Pour des revenus de 25000 €, l'impôt est de 3750.0 €.\n"
          ]
        }
      ]
    },
    {
      "cell_type": "markdown",
      "source": [
        "2. Évaluation d'un étudiant : Vous devez assigner une mention à un étudiant en fonction de sa note. Par exemple, \"Excellent\" pour les notes au-dessus de 90, \"Bien\" entre 70 et 89, \"Passable\" entre 50 et 69, et \"Échec\" en dessous de 50.\n"
      ],
      "metadata": {
        "id": "yKQ5wtLL-QMf"
      }
    },
    {
      "cell_type": "code",
      "source": [
        "note = 75\n",
        "\n",
        "if note > 90:\n",
        "  mention = \"Excellent\"\n",
        "elif 70 <= note <= 89:\n",
        "  mention = \"Bien\"\n",
        "elif 50 <= note <= 69:\n",
        "  mention = \"Passable\"\n",
        "else:\n",
        "  mention = \"Échec\"\n",
        "\n",
        "print(f\"La mention de l'étudiant est : {mention}\")\n"
      ],
      "metadata": {
        "colab": {
          "base_uri": "https://localhost:8080/"
        },
        "id": "uArxndQZ-R6w",
        "outputId": "1b050422-1eb7-474c-eb15-3a358f4999de"
      },
      "execution_count": 3,
      "outputs": [
        {
          "output_type": "stream",
          "name": "stdout",
          "text": [
            "La mention de l'étudiant est : Bien\n"
          ]
        }
      ]
    },
    {
      "cell_type": "markdown",
      "source": [
        "3. Calculateur de taux de prêt : En fonction de votre crédit score (score de crédit), calculez le taux d'intérêt. Si le score est supérieur à 800, le taux est de 3%. Si le score est entre 700 et 800, le taux est de 5%. Sinon, le taux est de 8%.\n"
      ],
      "metadata": {
        "id": "uzqkCC1I-SNO"
      }
    },
    {
      "cell_type": "code",
      "source": [
        "credit_score = 750\n",
        "\n",
        "if credit_score > 800:\n",
        "  taux_interet = 3\n",
        "elif 700 <= credit_score <= 800:\n",
        "  taux_interet = 5\n",
        "else:\n",
        "  taux_interet = 8\n",
        "\n",
        "print(f\"Pour un score de crédit de {credit_score}, le taux d'intérêt est de {taux_interet}%.\")\n"
      ],
      "metadata": {
        "colab": {
          "base_uri": "https://localhost:8080/"
        },
        "id": "hDhD1EVc-T18",
        "outputId": "200c2de9-cf84-4e46-f5ac-e972b12a787c"
      },
      "execution_count": 4,
      "outputs": [
        {
          "output_type": "stream",
          "name": "stdout",
          "text": [
            "Pour un score de crédit de 750, le taux d'intérêt est de 5%.\n"
          ]
        }
      ]
    },
    {
      "cell_type": "markdown",
      "source": [
        "4. Calcul de la facture d'électricité : Vous devez calculer la facture d'électricité d'un utilisateur en fonction de la consommation d'énergie. Les 100 premiers kWh coûtent 0,12 €/kWh, les 200 suivants 0,15 €/kWh, et tout au-delà coûte 0,20 €/kWh.\n"
      ],
      "metadata": {
        "id": "l_WIp6mz-UHg"
      }
    },
    {
      "cell_type": "code",
      "source": [
        "consommation = 350\n",
        "\n",
        "if consommation <= 100:\n",
        "    cout = consommation * 0.12\n",
        "elif consommation <= 300:\n",
        "    cout = 100 * 0.12 + (consommation - 100) * 0.15\n",
        "else:\n",
        "    cout = 100 * 0.12 + 200 * 0.15 + (consommation - 300) * 0.20\n",
        "\n",
        "print(f\"Pour une consommation de {consommation} kWh, la facture est de {cout} €.\")\n"
      ],
      "metadata": {
        "colab": {
          "base_uri": "https://localhost:8080/"
        },
        "id": "JiK1ShnU-Vem",
        "outputId": "9af73082-604c-4289-baee-aa42483669ee"
      },
      "execution_count": 6,
      "outputs": [
        {
          "output_type": "stream",
          "name": "stdout",
          "text": [
            "Pour une consommation de 350 kWh, la facture est de 52.0 €.\n"
          ]
        }
      ]
    },
    {
      "cell_type": "markdown",
      "source": [
        "5. Système de notation des employés : Un employé est évalué en fonction de sa performance. S'il termine plus de 90% des tâches assignées, il reçoit une prime. Entre 70% et 90%, il reçoit des encouragements. Moins de 70%, il reçoit un avertissement.\n"
      ],
      "metadata": {
        "id": "BjzzmzfQ-V0F"
      }
    },
    {
      "cell_type": "code",
      "source": [
        "taches_terminees = 85\n",
        "\n",
        "if taches_terminees > 90:\n",
        "    print(\"L'employé reçoit une prime.\")\n",
        "elif 70 <= taches_terminees <= 90:\n",
        "    print(\"L'employé reçoit des encouragements.\")\n",
        "else:\n",
        "    print(\"L'employé reçoit un avertissement.\")\n"
      ],
      "metadata": {
        "colab": {
          "base_uri": "https://localhost:8080/"
        },
        "id": "7P9xbnyM-XJ5",
        "outputId": "a1f6422e-6e03-4929-e23e-b38adc7d3c37"
      },
      "execution_count": 8,
      "outputs": [
        {
          "output_type": "stream",
          "name": "stdout",
          "text": [
            "L'employé reçoit des encouragements.\n"
          ]
        }
      ]
    },
    {
      "cell_type": "markdown",
      "source": [
        "6. Système de recommandation de vêtements : Vous gérez un site e-commerce qui recommande des vêtements en fonction de la température extérieure. S'il fait moins de 10°C, recommandez un manteau. Entre 10°C et 20°C, recommandez un pull. Au-dessus de 20°C, recommandez un t-shirt."
      ],
      "metadata": {
        "id": "05OYPB0C-XcN"
      }
    },
    {
      "cell_type": "code",
      "source": [
        "temperature = 15\n",
        "\n",
        "if temperature < 10:\n",
        "    print(\"Recommandation : Manteau\")\n",
        "elif 10 <= temperature <= 20:\n",
        "    print(\"Recommandation : Pull\")\n",
        "else:\n",
        "    print(\"Recommandation : T-shirt\")\n"
      ],
      "metadata": {
        "colab": {
          "base_uri": "https://localhost:8080/"
        },
        "id": "eVmvmoI9-YKE",
        "outputId": "c9f59745-5b9b-4c3a-fc90-dfe4d15d4249"
      },
      "execution_count": 9,
      "outputs": [
        {
          "output_type": "stream",
          "name": "stdout",
          "text": [
            "Recommandation : Pull\n"
          ]
        }
      ]
    }
  ]
}
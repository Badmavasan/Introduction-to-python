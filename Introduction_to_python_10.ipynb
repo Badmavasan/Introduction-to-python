{
  "nbformat": 4,
  "nbformat_minor": 0,
  "metadata": {
    "colab": {
      "provenance": []
    },
    "kernelspec": {
      "name": "python3",
      "display_name": "Python 3"
    },
    "language_info": {
      "name": "python"
    }
  },
  "cells": [
    {
      "cell_type": "markdown",
      "source": [
        "# Ouvrir et Lire des Fichiers en Python\n",
        "\n",
        "En Python, vous pouvez ouvrir, lire et écrire des fichiers avec les fonctions intégrées. Le fichier peut être en mode lecture, écriture ou ajout, et il est important de fermer le fichier après manipulation pour éviter les pertes de données ou les corruptions.\n",
        "Ouvrir un Fichier\n",
        "\n",
        "La méthode la plus simple pour ouvrir un fichier est d'utiliser la fonction `open()`.\n",
        "\n",
        "**Syntaxe :**\n",
        "\n",
        "```\n",
        "fichier = open(\"nom_du_fichier.txt\", mode)\n",
        "```\n",
        "\n",
        "Les modes les plus courants sont :\n",
        "\n",
        "- \"`r`\" : Lecture (par défaut)\n",
        "- \"`w`\" : Écriture (écrase le fichier s'il existe)\n",
        "- \"`a`\" : Ajout (écrit à la fin du fichier sans l'écraser)\n",
        "- \"`b`\" : Mode binaire (pour lire/écrire des fichiers non textuels)\n",
        "\n",
        "## Lire un Fichier Entier\n",
        "\n",
        "Pour lire un fichier entier, vous pouvez utiliser la méthode read(). Cela renvoie tout le contenu du fichier sous forme de chaîne de caractères.\n",
        "\n",
        "**Exemple :**"
      ],
      "metadata": {
        "id": "x9tqMfwFcHFm"
      }
    },
    {
      "cell_type": "code",
      "source": [
        "fichier = open(\"mon_fichier.txt\", \"r\")\n",
        "contenu = fichier.read()\n",
        "print(contenu)\n",
        "fichier.close()"
      ],
      "metadata": {
        "id": "L7qHHOMhcfPk"
      },
      "execution_count": null,
      "outputs": []
    },
    {
      "cell_type": "markdown",
      "source": [
        "## Lire Ligne par Ligne avec une Boucle\n",
        "\n",
        "Si vous souhaitez traiter un fichier ligne par ligne, vous pouvez itérer directement sur le fichier dans une boucle `for`.\n",
        "\n",
        "**Exemple :**\n",
        "\n"
      ],
      "metadata": {
        "id": "0reEPfppcjyt"
      }
    },
    {
      "cell_type": "code",
      "source": [
        "fichier = open(\"mon_fichier.txt\", \"r\")\n",
        "for ligne in fichier:\n",
        "    print(ligne, end=\"\")  # end=\"\" évite les doubles sauts de ligne\n",
        "fichier.close()"
      ],
      "metadata": {
        "id": "70i7f96AcsBh"
      },
      "execution_count": null,
      "outputs": []
    },
    {
      "cell_type": "markdown",
      "source": [
        "## Lire un Nombre Limité de Caractères\n",
        "\n",
        "La méthode `read(n)` vous permet de lire les `n` premiers caractères du fichier.\n",
        "\n",
        "**Exemple :**"
      ],
      "metadata": {
        "id": "Rvb4qtkjcswm"
      }
    },
    {
      "cell_type": "code",
      "source": [
        "fichier = open(\"mon_fichier.txt\", \"r\")\n",
        "partie_contenu = fichier.read(20)  # Lire les 20 premiers caractères\n",
        "print(partie_contenu)\n",
        "fichier.close()"
      ],
      "metadata": {
        "id": "qzzJ0la-kTMi"
      },
      "execution_count": null,
      "outputs": []
    },
    {
      "cell_type": "markdown",
      "source": [
        "## Utiliser `readlines()` pour Lire Plusieurs Lignes\n",
        "\n",
        "La méthode `readlines()` lit toutes les lignes du fichier et les renvoie sous forme d'une liste de chaînes de caractères. Chaque élément de la liste est une ligne du fichier.\n",
        "\n",
        "**Exemple :**"
      ],
      "metadata": {
        "id": "1rrroUDjkT8o"
      }
    },
    {
      "cell_type": "code",
      "source": [
        "fichier = open(\"mon_fichier.txt\", \"r\")\n",
        "lignes = fichier.readlines()\n",
        "for ligne in lignes:\n",
        "    print(ligne.strip())  # strip() pour enlever les espaces et sauts de ligne\n",
        "fichier.close()"
      ],
      "metadata": {
        "id": "ulX03Wsnkcuo"
      },
      "execution_count": null,
      "outputs": []
    },
    {
      "cell_type": "markdown",
      "source": [
        "## Écrire dans un Fichier\n",
        "\n",
        "Pour écrire dans un fichier, vous devez ouvrir le fichier en mode écriture (\"`w`\") ou ajout (\"`a`\"). Utilisez la méthode `write()` pour écrire une chaîne dans le fichier.\n",
        "\n",
        "**Exemple :**"
      ],
      "metadata": {
        "id": "ElzAHJ4dkffP"
      }
    },
    {
      "cell_type": "code",
      "source": [
        "fichier = open(\"mon_fichier.txt\", \"w\")\n",
        "fichier.write(\"Bonjour, ceci est un texte.\\n\")\n",
        "fichier.write(\"Deuxième ligne ajoutée.\")\n",
        "fichier.close()"
      ],
      "metadata": {
        "id": "vh2_zwCXkq7J"
      },
      "execution_count": null,
      "outputs": []
    },
    {
      "cell_type": "markdown",
      "source": [
        "Cela écrasera le contenu du fichier s'il existe déjà. Si vous voulez ajouter du contenu sans effacer le fichier existant, utilisez le mode \"`a`\".\n",
        "\n",
        "**Exemple en mode ajout :**"
      ],
      "metadata": {
        "id": "oWHeAtSVkrwX"
      }
    },
    {
      "cell_type": "code",
      "source": [
        "fichier = open(\"mon_fichier.txt\", \"a\")\n",
        "fichier.write(\"Nouvelle ligne ajoutée à la fin.\\n\")\n",
        "fichier.close()"
      ],
      "metadata": {
        "id": "wdhR52Cbkxnw"
      },
      "execution_count": null,
      "outputs": []
    },
    {
      "cell_type": "markdown",
      "source": [
        "## Toutes les Fonctionnalités de write()\n",
        "\n",
        "    - `write()` : Écrire une chaîne dans le fichier.\n",
        "    - `writelines()` : Écrire une liste de chaînes de caractères (une par ligne).\n",
        "\n",
        "**Exemple avec `writelines()` :**"
      ],
      "metadata": {
        "id": "yhpAVbfZkyoi"
      }
    },
    {
      "cell_type": "code",
      "source": [
        "fichier = open(\"mon_fichier.txt\", \"w\")\n",
        "lignes = [\"Première ligne\\n\", \"Deuxième ligne\\n\", \"Troisième ligne\\n\"]\n",
        "fichier.writelines(lignes)\n",
        "fichier.close()"
      ],
      "metadata": {
        "id": "Crh3sjRelJX2"
      },
      "execution_count": null,
      "outputs": []
    },
    {
      "cell_type": "markdown",
      "source": [
        "## Bonne Pratique : Utiliser with\n",
        "\n",
        "L'utilisation du mot-clé with est une bonne pratique pour gérer automatiquement l'ouverture et la fermeture des fichiers, même si une erreur survient.\n",
        "\n",
        "**Exemple :**"
      ],
      "metadata": {
        "id": "MinMg55blLYT"
      }
    },
    {
      "cell_type": "code",
      "source": [
        "with open(\"mon_fichier.txt\", \"r\") as fichier:\n",
        "    contenu = fichier.read()\n",
        "    print(contenu)"
      ],
      "metadata": {
        "id": "98RqTdXOlW3h"
      },
      "execution_count": null,
      "outputs": []
    },
    {
      "cell_type": "markdown",
      "source": [
        "# Exercices Pratiques sur la Lecture et l'Écriture de Fichiers\n",
        "\n",
        "1. Lire un Fichier et Imprimer Son Contenu : Écrivez un programme qui lit un fichier texte et imprime tout son contenu sur la console."
      ],
      "metadata": {
        "id": "rjwV-zNrmhAL"
      }
    },
    {
      "cell_type": "code",
      "source": [],
      "metadata": {
        "id": "mEf5JlRSmomM"
      },
      "execution_count": null,
      "outputs": []
    },
    {
      "cell_type": "markdown",
      "source": [
        "2. Lire un Fichier, Traiter les Données, et Écrire dans un Autre Fichier : Écrivez un programme qui lit un fichier contenant des nombres, les double, puis écrit les résultats dans un nouveau fichier."
      ],
      "metadata": {
        "id": "mGw7nsqSmo6O"
      }
    },
    {
      "cell_type": "code",
      "source": [],
      "metadata": {
        "id": "jOryXqx4msvH"
      },
      "execution_count": null,
      "outputs": []
    },
    {
      "cell_type": "markdown",
      "source": [
        "3. Copier le Contenu d'un Fichier dans un Autre : Écrivez un programme qui copie le contenu d'un fichier texte dans un autre fichier."
      ],
      "metadata": {
        "id": "x1tO2PlGmtQ8"
      }
    },
    {
      "cell_type": "code",
      "source": [],
      "metadata": {
        "id": "FkBh28O8mxqT"
      },
      "execution_count": null,
      "outputs": []
    },
    {
      "cell_type": "markdown",
      "source": [
        "4. Trouver et Remplacer du Texte dans un Fichier : Écrivez un programme qui lit un fichier, remplace un mot spécifique par un autre, puis écrit les résultats dans un nouveau fichier."
      ],
      "metadata": {
        "id": "PL7EQKeMmyAM"
      }
    },
    {
      "cell_type": "code",
      "source": [],
      "metadata": {
        "id": "676kQwmnm10v"
      },
      "execution_count": null,
      "outputs": []
    },
    {
      "cell_type": "markdown",
      "source": [
        "5. Analyser un Fichier de Journal (Log) et Écrire les Erreurs dans un Nouveau Fichier : Écrivez un programme qui lit un fichier de log (journal d'erreurs) et extrait toutes les lignes contenant le mot \"ERROR\", puis écrit ces lignes dans un fichier séparé."
      ],
      "metadata": {
        "id": "l0cUyHusm2KU"
      }
    },
    {
      "cell_type": "code",
      "source": [],
      "metadata": {
        "id": "9vL78Qufm6n5"
      },
      "execution_count": null,
      "outputs": []
    }
  ]
}
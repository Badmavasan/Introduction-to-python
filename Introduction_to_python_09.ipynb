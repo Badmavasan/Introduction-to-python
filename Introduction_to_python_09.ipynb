{
  "nbformat": 4,
  "nbformat_minor": 0,
  "metadata": {
    "colab": {
      "provenance": []
    },
    "kernelspec": {
      "name": "python3",
      "display_name": "Python 3"
    },
    "language_info": {
      "name": "python"
    }
  },
  "cells": [
    {
      "cell_type": "markdown",
      "source": [
        "# Les Fonctions\n",
        "\n",
        "Les fonctions en Python sont des blocs de code réutilisables qui effectuent une tâche précise. Elles permettent de mieux organiser le code, d'éviter les répétitions, et de le rendre plus lisible.\n",
        "\n",
        "**Syntaxe :**\n",
        "\n",
        "```\n",
        "def nom_de_la_fonction(parametre1, parametre2):\n",
        "    # Bloc de code à exécuter\n",
        "    return valeur\n",
        "```\n",
        "\n",
        "## Paramètres / Arguments et `return`\n",
        "\n",
        "- Paramètres / Arguments : Ce sont des variables que vous pouvez passer à une fonction pour qu'elle les utilise. Les paramètres sont les variables définies dans la définition de la fonction, tandis que les arguments sont les valeurs passées lors de l'appel de la fonction.\n",
        "- `return` : Cette instruction permet à une fonction de renvoyer une valeur à la fin de son exécution. Si aucune valeur n'est renvoyée explicitement, la fonction renverra None par défaut.\n",
        "\n",
        "**Exemple :**"
      ],
      "metadata": {
        "id": "URQjBOSLfj97"
      }
    },
    {
      "cell_type": "code",
      "source": [
        "def addition(a, b):\n",
        "    return a + b\n",
        "\n",
        "resultat = addition(3, 5)\n",
        "print(resultat)  # Affiche 8"
      ],
      "metadata": {
        "colab": {
          "base_uri": "https://localhost:8080/"
        },
        "id": "p-EHhZxlhMRA",
        "outputId": "aedc2db9-9f11-444b-ceb3-ef77dfab7414"
      },
      "execution_count": null,
      "outputs": [
        {
          "output_type": "stream",
          "name": "stdout",
          "text": [
            "8\n"
          ]
        }
      ]
    },
    {
      "cell_type": "markdown",
      "source": [
        "Dans cet exemple, `a` et `b` sont des paramètres, et les valeurs `3` et `5` sont des arguments passés à la fonction lors de son appel.\n",
        "\n",
        "## Portée des Variables dans une Fonction (Scope)\n",
        "\n",
        "La portée d'une variable détermine où elle peut être utilisée. En Python, les variables définies à l'intérieur d'une fonction ont une portée locale, ce qui signifie qu'elles ne sont accessibles qu'à l'intérieur de cette fonction.\n",
        "\n",
        "**Exemple de Portée Locale :**"
      ],
      "metadata": {
        "id": "NMFDK0GMhO5i"
      }
    },
    {
      "cell_type": "code",
      "source": [
        "def ma_fonction():\n",
        "    x = 10  # Variable locale\n",
        "    print(x)\n",
        "\n",
        "ma_fonction()  # Affiche 10\n",
        "print(x)  # Erreur : 'x' n'est pas défini en dehors de la fonction"
      ],
      "metadata": {
        "colab": {
          "base_uri": "https://localhost:8080/",
          "height": 198
        },
        "id": "nwpUoi5KhNZN",
        "outputId": "a73fee07-13a7-4968-fbaf-9477dcfed63a"
      },
      "execution_count": null,
      "outputs": [
        {
          "output_type": "stream",
          "name": "stdout",
          "text": [
            "10\n"
          ]
        },
        {
          "output_type": "error",
          "ename": "NameError",
          "evalue": "name 'x' is not defined",
          "traceback": [
            "\u001b[0;31m---------------------------------------------------------------------------\u001b[0m",
            "\u001b[0;31mNameError\u001b[0m                                 Traceback (most recent call last)",
            "\u001b[0;32m<ipython-input-2-6a6ae9ddc87a>\u001b[0m in \u001b[0;36m<cell line: 6>\u001b[0;34m()\u001b[0m\n\u001b[1;32m      4\u001b[0m \u001b[0;34m\u001b[0m\u001b[0m\n\u001b[1;32m      5\u001b[0m \u001b[0mma_fonction\u001b[0m\u001b[0;34m(\u001b[0m\u001b[0;34m)\u001b[0m  \u001b[0;31m# Affiche 10\u001b[0m\u001b[0;34m\u001b[0m\u001b[0;34m\u001b[0m\u001b[0m\n\u001b[0;32m----> 6\u001b[0;31m \u001b[0mprint\u001b[0m\u001b[0;34m(\u001b[0m\u001b[0mx\u001b[0m\u001b[0;34m)\u001b[0m  \u001b[0;31m# Erreur : 'x' n'est pas défini en dehors de la fonction\u001b[0m\u001b[0;34m\u001b[0m\u001b[0;34m\u001b[0m\u001b[0m\n\u001b[0m",
            "\u001b[0;31mNameError\u001b[0m: name 'x' is not defined"
          ]
        }
      ]
    },
    {
      "cell_type": "markdown",
      "source": [
        "La variable `x` est définie dans la fonction `ma_fonction()`, donc elle n'est accessible qu'à l'intérieur de cette fonction. Essayer de l'utiliser en dehors de la fonction déclenche une erreur.\n",
        "\n",
        "**Exemple de Portée Globale :**\n",
        "\n",
        "Les variables définies en dehors d'une fonction ont une portée globale et peuvent être utilisées à l'intérieur d'une fonction, mais elles ne peuvent pas être modifiées à moins d'utiliser le mot-clé `global`."
      ],
      "metadata": {
        "id": "zKrC8ZbChbXM"
      }
    },
    {
      "cell_type": "code",
      "source": [
        "x = 10  # Variable globale\n",
        "\n",
        "def ma_fonction():\n",
        "    global x  # Indique que l'on veut utiliser et modifier la variable globale\n",
        "    x = 20\n",
        "    print(x)\n",
        "\n",
        "ma_fonction()  # Affiche 20\n",
        "print(x)  # Affiche également 20, car la variable globale a été modifiée"
      ],
      "metadata": {
        "colab": {
          "base_uri": "https://localhost:8080/"
        },
        "id": "vHQd29TOhY7B",
        "outputId": "54913a93-c652-4532-cb51-0e1594ca28bb"
      },
      "execution_count": null,
      "outputs": [
        {
          "output_type": "stream",
          "name": "stdout",
          "text": [
            "20\n",
            "20\n"
          ]
        }
      ]
    },
    {
      "cell_type": "markdown",
      "source": [
        "## Définir des Valeurs Par Défaut pour les Paramètres\n",
        "\n",
        "Il est possible de donner une valeur par défaut à un paramètre dans une fonction. Si un argument correspondant n'est pas passé lors de l'appel de la fonction, cette valeur par défaut sera utilisée.\n",
        "\n",
        "**Exemple :**"
      ],
      "metadata": {
        "id": "MuqxMp4shlu0"
      }
    },
    {
      "cell_type": "code",
      "source": [
        "def saluer(nom=\"Inconnu\"):\n",
        "    print(f\"Bonjour, {nom}!\")\n",
        "\n",
        "saluer(\"Alice\")  # Affiche \"Bonjour, Alice!\"\n",
        "saluer()  # Affiche \"Bonjour, Inconnu!\" car aucun argument n'est passé"
      ],
      "metadata": {
        "colab": {
          "base_uri": "https://localhost:8080/"
        },
        "id": "bDLxKQnyhkAi",
        "outputId": "17e0322d-1316-4bf6-e34c-83d9a4f11b5e"
      },
      "execution_count": null,
      "outputs": [
        {
          "output_type": "stream",
          "name": "stdout",
          "text": [
            "Bonjour, Alice!\n",
            "Bonjour, Inconnu!\n"
          ]
        }
      ]
    },
    {
      "cell_type": "markdown",
      "source": [
        "Dans cet exemple, le paramètre `nom` a une valeur par défaut de `\"Inconnu\"`. Si aucun argument n'est fourni lors de l'appel, cette valeur sera utilisée.\n",
        "\n",
        "## Exercices\n",
        "\n",
        "1. Somme des Nombres Pairs : Écrivez une fonction qui prend une liste de nombres et renvoie la somme des nombres pairs.\n"
      ],
      "metadata": {
        "id": "lvl9W0hohqPj"
      }
    },
    {
      "cell_type": "code",
      "source": [
        "def somme_nombres_pairs(liste_nombres):\n",
        "  \"\"\"Calcule la somme des nombres pairs dans une liste.\n",
        "\n",
        "  Args:\n",
        "    liste_nombres: Une liste de nombres.\n",
        "\n",
        "  Returns:\n",
        "    La somme des nombres pairs dans la liste.\n",
        "  \"\"\"\n",
        "  somme = 0\n",
        "  for nombre in liste_nombres:\n",
        "    if nombre % 2 == 0:\n",
        "      somme += nombre\n",
        "  return somme\n",
        "\n",
        "# Exemple d'utilisation\n",
        "ma_liste = [1, 2, 3, 4, 5, 6]\n",
        "resultat = somme_nombres_pairs(ma_liste)\n",
        "print(f\"La somme des nombres pairs est : {resultat}\")\n"
      ],
      "metadata": {
        "colab": {
          "base_uri": "https://localhost:8080/"
        },
        "id": "DgF67uxaBWIv",
        "outputId": "f38e8a8a-d0ab-4397-9407-df42bfcc1ef6"
      },
      "execution_count": 1,
      "outputs": [
        {
          "output_type": "stream",
          "name": "stdout",
          "text": [
            "La somme des nombres pairs est : 12\n"
          ]
        }
      ]
    },
    {
      "cell_type": "markdown",
      "source": [
        "2. Vérifier un Palindrome : Écrivez une fonction qui vérifie si un mot est un palindrome (un mot qui se lit de la même façon dans les deux sens).\n"
      ],
      "metadata": {
        "id": "9bNKurwkBWiD"
      }
    },
    {
      "cell_type": "code",
      "source": [
        "def est_palindrome(mot):\n",
        "  \"\"\"Vérifie si un mot est un palindrome.\n",
        "\n",
        "  Args:\n",
        "    mot: Le mot à vérifier.\n",
        "\n",
        "  Returns:\n",
        "    True si le mot est un palindrome, False sinon.\n",
        "  \"\"\"\n",
        "  mot = mot.lower()  # Ignorer la casse (majuscules/minuscules)\n",
        "  return mot == mot[::-1]\n",
        "\n",
        "# Exemple d'utilisation\n",
        "mot = \"Radar\"\n",
        "if est_palindrome(mot):\n",
        "  print(f\"{mot} est un palindrome.\")\n",
        "else:\n",
        "  print(f\"{mot} n'est pas un palindrome.\")\n"
      ],
      "metadata": {
        "colab": {
          "base_uri": "https://localhost:8080/"
        },
        "id": "Fni9GFzzBabs",
        "outputId": "880f6e35-6038-48ad-fd6d-3e0739e59ed2"
      },
      "execution_count": 2,
      "outputs": [
        {
          "output_type": "stream",
          "name": "stdout",
          "text": [
            "Radar est un palindrome.\n"
          ]
        }
      ]
    },
    {
      "cell_type": "markdown",
      "source": [
        "3. Calcul de Factorielle : Écrivez une fonction qui prend un entier et renvoie sa factorielle.\n"
      ],
      "metadata": {
        "id": "ruCyAtB1Baqh"
      }
    },
    {
      "cell_type": "code",
      "source": [
        "def factorielle_recursive(n):\n",
        "  \"\"\"Calcule la factorielle d'un entier avec récursivité.\n",
        "\n",
        "  Args:\n",
        "    n: L'entier dont on veut calculer la factorielle.\n",
        "\n",
        "  Returns:\n",
        "    La factorielle de n.\n",
        "  \"\"\"\n",
        "  if n == 0:\n",
        "    return 1\n",
        "  else:\n",
        "    return n * factorielle_recursive(n - 1)\n",
        "\n",
        "\n",
        "def factorielle_iterative(n):\n",
        "  \"\"\"Calcule la factorielle d'un entier de manière itérative.\n",
        "\n",
        "  Args:\n",
        "    n: L'entier dont on veut calculer la factorielle.\n",
        "\n",
        "  Returns:\n",
        "    La factorielle de n.\n",
        "  \"\"\"\n",
        "  fact = 1\n",
        "  for i in range(1, n + 1):\n",
        "    fact *= i\n",
        "  return fact\n",
        "\n",
        "\n",
        "# Exemple d'utilisation\n",
        "n = 5\n",
        "resultat_recursive = factorielle_recursive(n)\n",
        "resultat_iterative = factorielle_iterative(n)\n",
        "print(f\"La factorielle de {n} (récursive) est : {resultat_recursive}\")\n",
        "print(f\"La factorielle de {n} (itérative) est : {resultat_iterative}\")\n"
      ],
      "metadata": {
        "colab": {
          "base_uri": "https://localhost:8080/"
        },
        "id": "mCWMv0fIBcei",
        "outputId": "64bf1e78-0412-4326-906a-7bce81e7de5c"
      },
      "execution_count": 3,
      "outputs": [
        {
          "output_type": "stream",
          "name": "stdout",
          "text": [
            "La factorielle de 5 (récursive) est : 120\n",
            "La factorielle de 5 (itérative) est : 120\n"
          ]
        }
      ]
    },
    {
      "cell_type": "markdown",
      "source": [
        "4. Trouver le Plus Grand Élément : Écrivez une fonction qui prend une liste de nombres et renvoie le plus grand élément.\n"
      ],
      "metadata": {
        "id": "KQJjBOjRBdD-"
      }
    },
    {
      "cell_type": "code",
      "source": [
        "def trouver_plus_grand_element(liste_nombres):\n",
        "  \"\"\"Trouve le plus grand élément dans une liste de nombres.\n",
        "\n",
        "  Args:\n",
        "    liste_nombres: Une liste de nombres.\n",
        "\n",
        "  Returns:\n",
        "    Le plus grand élément de la liste.\n",
        "  \"\"\"\n",
        "  if not liste_nombres:\n",
        "    return None  # Retourne None si la liste est vide\n",
        "\n",
        "  plus_grand = liste_nombres[0]\n",
        "  for nombre in liste_nombres:\n",
        "    if nombre > plus_grand:\n",
        "      plus_grand = nombre\n",
        "  return plus_grand\n",
        "\n",
        "# Exemple d'utilisation\n",
        "ma_liste = [10, 5, 20, 15, 8]\n",
        "plus_grand_element = trouver_plus_grand_element(ma_liste)\n",
        "print(f\"Le plus grand élément de la liste est : {plus_grand_element}\")\n"
      ],
      "metadata": {
        "colab": {
          "base_uri": "https://localhost:8080/"
        },
        "id": "A8-UpVw0Be5D",
        "outputId": "4250f172-767d-4092-b448-e19d5b88e313"
      },
      "execution_count": 4,
      "outputs": [
        {
          "output_type": "stream",
          "name": "stdout",
          "text": [
            "Le plus grand élément de la liste est : 20\n"
          ]
        }
      ]
    },
    {
      "cell_type": "markdown",
      "source": [
        "5. Trouver les Diviseurs d'un Nombre : Écrivez une fonction qui prend un entier et renvoie une liste de ses diviseurs.\n"
      ],
      "metadata": {
        "id": "CEaAGHMABflm"
      }
    },
    {
      "cell_type": "code",
      "source": [
        "def trouver_diviseurs(nombre):\n",
        "  \"\"\"Trouve les diviseurs d'un nombre.\n",
        "\n",
        "  Args:\n",
        "    nombre: L'entier dont on veut trouver les diviseurs.\n",
        "\n",
        "  Returns:\n",
        "    Une liste des diviseurs du nombre.\n",
        "  \"\"\"\n",
        "  diviseurs = []\n",
        "  for i in range(1, nombre + 1):\n",
        "    if nombre % i == 0:\n",
        "      diviseurs.append(i)\n",
        "  return diviseurs\n",
        "\n",
        "# Exemple d'utilisation\n",
        "nombre = 12\n",
        "liste_diviseurs = trouver_diviseurs(nombre)\n",
        "print(f\"Les diviseurs de {nombre} sont : {liste_diviseurs}\")\n"
      ],
      "metadata": {
        "colab": {
          "base_uri": "https://localhost:8080/"
        },
        "id": "j3RIHFeRBi1Z",
        "outputId": "619a2053-b5f4-48a2-ca01-2dd25a8c55b1"
      },
      "execution_count": 10,
      "outputs": [
        {
          "output_type": "stream",
          "name": "stdout",
          "text": [
            "Les diviseurs de 12 sont : [1, 2, 3, 4, 6, 12]\n"
          ]
        }
      ]
    },
    {
      "cell_type": "markdown",
      "source": [
        "6. Fibonacci : Écrivez une fonction qui prend un entier n et renvoie le n-ième nombre de la suite de Fibonacci.\n"
      ],
      "metadata": {
        "id": "zd0gmEkcBjHX"
      }
    },
    {
      "cell_type": "code",
      "source": [
        "def fibonacci_recursive(n):\n",
        "  \"\"\"Calcule le n-ième nombre de la suite de Fibonacci de manière récursive.\n",
        "\n",
        "  Args:\n",
        "    n: Le rang du nombre de Fibonacci à calculer.\n",
        "\n",
        "  Returns:\n",
        "    Le n-ième nombre de la suite de Fibonacci.\n",
        "  \"\"\"\n",
        "  if n <= 1:\n",
        "    return n\n",
        "  else:\n",
        "    return fibonacci_recursive(n - 1) + fibonacci_recursive(n - 2)\n",
        "\n",
        "\n",
        "def fibonacci_iterative(n):\n",
        "  \"\"\"Calcule le n-ième nombre de la suite de Fibonacci de manière itérative.\n",
        "\n",
        "  Args:\n",
        "    n: Le rang du nombre de Fibonacci à calculer.\n",
        "\n",
        "  Returns:\n",
        "    Le n-ième nombre de la suite de Fibonacci.\n",
        "  \"\"\"\n",
        "  a, b = 0, 1\n",
        "  for i in range(n):\n",
        "    a, b = b, a + b\n",
        "  return a\n",
        "\n",
        "\n",
        "# Exemple d'utilisation\n",
        "n = 10\n",
        "resultat_recursive = fibonacci_recursive(n)\n",
        "resultat_iterative = fibonacci_iterative(n)\n",
        "print(f\"Le {n}-ième nombre de Fibonacci (récursif) est : {resultat_recursive}\")\n",
        "print(f\"Le {n}-ième nombre de Fibonacci (itératif) est : {resultat_iterative}\")\n"
      ],
      "metadata": {
        "colab": {
          "base_uri": "https://localhost:8080/"
        },
        "id": "mlTLV-gDBle8",
        "outputId": "479a8401-0879-41c7-8049-2105c4ba1c4c"
      },
      "execution_count": 6,
      "outputs": [
        {
          "output_type": "stream",
          "name": "stdout",
          "text": [
            "Le 10-ième nombre de Fibonacci (récursif) est : 55\n",
            "Le 10-ième nombre de Fibonacci (itératif) est : 55\n"
          ]
        }
      ]
    },
    {
      "cell_type": "markdown",
      "source": [
        "7.  Vérification de Nombre Premier : Écrivez une fonction qui prend un entier et vérifie s'il est premier."
      ],
      "metadata": {
        "id": "fa7Q5DaZBlx3"
      }
    },
    {
      "cell_type": "code",
      "source": [
        "def est_premier(nombre):\n",
        "  \"\"\"Vérifie si un nombre est premier.\n",
        "\n",
        "  Args:\n",
        "    nombre: L'entier à vérifier.\n",
        "\n",
        "  Returns:\n",
        "    True si le nombre est premier, False sinon.\n",
        "  \"\"\"\n",
        "  if nombre <= 1:\n",
        "    return False\n",
        "  for i in range(2, int(nombre**0.5) + 1):\n",
        "    if nombre % i == 0:\n",
        "      return False\n",
        "  return True\n",
        "\n",
        "# Exemple d'utilisation\n",
        "nombre = 17\n",
        "if est_premier(nombre):\n",
        "  print(f\"{nombre} est un nombre premier.\")\n",
        "else:\n",
        "  print(f\"{nombre} n'est pas un nombre premier.\")\n"
      ],
      "metadata": {
        "colab": {
          "base_uri": "https://localhost:8080/"
        },
        "id": "oiiouq50BoLt",
        "outputId": "c6e795b3-a759-444a-baa0-0ae538922b16"
      },
      "execution_count": 7,
      "outputs": [
        {
          "output_type": "stream",
          "name": "stdout",
          "text": [
            "17 est un nombre premier.\n"
          ]
        }
      ]
    },
    {
      "cell_type": "markdown",
      "source": [
        "8. Compter les Voyelles dans une Chaîne : Écrivez une fonction qui prend une chaîne et renvoie le nombre de voyelles.\n"
      ],
      "metadata": {
        "id": "jWoRl05YBoju"
      }
    },
    {
      "cell_type": "code",
      "source": [
        "def compter_voyelles(chaine):\n",
        "  \"\"\"Compte le nombre de voyelles dans une chaîne.\n",
        "\n",
        "  Args:\n",
        "    chaine: La chaîne dans laquelle on veut compter les voyelles.\n",
        "\n",
        "  Returns:\n",
        "    Le nombre de voyelles dans la chaîne.\n",
        "  \"\"\"\n",
        "  voyelles = \"aeiouyAEIOUY\"\n",
        "  nombre_voyelles = 0\n",
        "  for caractere in chaine:\n",
        "    if caractere in voyelles:\n",
        "      nombre_voyelles += 1\n",
        "  return nombre_voyelles\n",
        "\n",
        "# Exemple d'utilisation\n",
        "chaine = \"Bonjour le monde !\"\n",
        "nombre_voyelles = compter_voyelles(chaine)\n",
        "print(f\"La chaîne '{chaine}' contient {nombre_voyelles} voyelles.\")\n"
      ],
      "metadata": {
        "colab": {
          "base_uri": "https://localhost:8080/"
        },
        "id": "0Ok695MeBpXR",
        "outputId": "c28dda7f-8218-40b6-90c6-c9f04fa5073e"
      },
      "execution_count": 9,
      "outputs": [
        {
          "output_type": "stream",
          "name": "stdout",
          "text": [
            "La chaîne 'Bonjour le monde !' contient 6 voyelles.\n"
          ]
        }
      ]
    }
  ]
}
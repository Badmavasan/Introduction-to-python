{
  "nbformat": 4,
  "nbformat_minor": 0,
  "metadata": {
    "colab": {
      "provenance": []
    },
    "kernelspec": {
      "name": "python3",
      "display_name": "Python 3"
    },
    "language_info": {
      "name": "python"
    }
  },
  "cells": [
    {
      "cell_type": "markdown",
      "source": [
        "# Les Fonctions\n",
        "\n",
        "Les fonctions en Python sont des blocs de code réutilisables qui effectuent une tâche précise. Elles permettent de mieux organiser le code, d'éviter les répétitions, et de le rendre plus lisible.\n",
        "\n",
        "**Syntaxe :**\n",
        "\n",
        "```\n",
        "def nom_de_la_fonction(parametre1, parametre2):\n",
        "    # Bloc de code à exécuter\n",
        "    return valeur\n",
        "```\n",
        "\n",
        "## Paramètres / Arguments et `return`\n",
        "\n",
        "- Paramètres / Arguments : Ce sont des variables que vous pouvez passer à une fonction pour qu'elle les utilise. Les paramètres sont les variables définies dans la définition de la fonction, tandis que les arguments sont les valeurs passées lors de l'appel de la fonction.\n",
        "- `return` : Cette instruction permet à une fonction de renvoyer une valeur à la fin de son exécution. Si aucune valeur n'est renvoyée explicitement, la fonction renverra None par défaut.\n",
        "\n",
        "**Exemple :**"
      ],
      "metadata": {
        "id": "URQjBOSLfj97"
      }
    },
    {
      "cell_type": "code",
      "source": [
        "def addition(a, b):\n",
        "    return a + b\n",
        "\n",
        "resultat = addition(3, 5)\n",
        "print(resultat)  # Affiche 8"
      ],
      "metadata": {
        "colab": {
          "base_uri": "https://localhost:8080/"
        },
        "id": "p-EHhZxlhMRA",
        "outputId": "aedc2db9-9f11-444b-ceb3-ef77dfab7414"
      },
      "execution_count": 1,
      "outputs": [
        {
          "output_type": "stream",
          "name": "stdout",
          "text": [
            "8\n"
          ]
        }
      ]
    },
    {
      "cell_type": "markdown",
      "source": [
        "Dans cet exemple, `a` et `b` sont des paramètres, et les valeurs `3` et `5` sont des arguments passés à la fonction lors de son appel.\n",
        "\n",
        "## Portée des Variables dans une Fonction (Scope)\n",
        "\n",
        "La portée d'une variable détermine où elle peut être utilisée. En Python, les variables définies à l'intérieur d'une fonction ont une portée locale, ce qui signifie qu'elles ne sont accessibles qu'à l'intérieur de cette fonction.\n",
        "\n",
        "**Exemple de Portée Locale :**"
      ],
      "metadata": {
        "id": "NMFDK0GMhO5i"
      }
    },
    {
      "cell_type": "code",
      "source": [
        "def ma_fonction():\n",
        "    x = 10  # Variable locale\n",
        "    print(x)\n",
        "\n",
        "ma_fonction()  # Affiche 10\n",
        "print(x)  # Erreur : 'x' n'est pas défini en dehors de la fonction"
      ],
      "metadata": {
        "colab": {
          "base_uri": "https://localhost:8080/",
          "height": 198
        },
        "id": "nwpUoi5KhNZN",
        "outputId": "a73fee07-13a7-4968-fbaf-9477dcfed63a"
      },
      "execution_count": 2,
      "outputs": [
        {
          "output_type": "stream",
          "name": "stdout",
          "text": [
            "10\n"
          ]
        },
        {
          "output_type": "error",
          "ename": "NameError",
          "evalue": "name 'x' is not defined",
          "traceback": [
            "\u001b[0;31m---------------------------------------------------------------------------\u001b[0m",
            "\u001b[0;31mNameError\u001b[0m                                 Traceback (most recent call last)",
            "\u001b[0;32m<ipython-input-2-6a6ae9ddc87a>\u001b[0m in \u001b[0;36m<cell line: 6>\u001b[0;34m()\u001b[0m\n\u001b[1;32m      4\u001b[0m \u001b[0;34m\u001b[0m\u001b[0m\n\u001b[1;32m      5\u001b[0m \u001b[0mma_fonction\u001b[0m\u001b[0;34m(\u001b[0m\u001b[0;34m)\u001b[0m  \u001b[0;31m# Affiche 10\u001b[0m\u001b[0;34m\u001b[0m\u001b[0;34m\u001b[0m\u001b[0m\n\u001b[0;32m----> 6\u001b[0;31m \u001b[0mprint\u001b[0m\u001b[0;34m(\u001b[0m\u001b[0mx\u001b[0m\u001b[0;34m)\u001b[0m  \u001b[0;31m# Erreur : 'x' n'est pas défini en dehors de la fonction\u001b[0m\u001b[0;34m\u001b[0m\u001b[0;34m\u001b[0m\u001b[0m\n\u001b[0m",
            "\u001b[0;31mNameError\u001b[0m: name 'x' is not defined"
          ]
        }
      ]
    },
    {
      "cell_type": "markdown",
      "source": [
        "La variable `x` est définie dans la fonction `ma_fonction()`, donc elle n'est accessible qu'à l'intérieur de cette fonction. Essayer de l'utiliser en dehors de la fonction déclenche une erreur.\n",
        "\n",
        "**Exemple de Portée Globale :**\n",
        "\n",
        "Les variables définies en dehors d'une fonction ont une portée globale et peuvent être utilisées à l'intérieur d'une fonction, mais elles ne peuvent pas être modifiées à moins d'utiliser le mot-clé `global`."
      ],
      "metadata": {
        "id": "zKrC8ZbChbXM"
      }
    },
    {
      "cell_type": "code",
      "source": [
        "x = 10  # Variable globale\n",
        "\n",
        "def ma_fonction():\n",
        "    global x  # Indique que l'on veut utiliser et modifier la variable globale\n",
        "    x = 20\n",
        "    print(x)\n",
        "\n",
        "ma_fonction()  # Affiche 20\n",
        "print(x)  # Affiche également 20, car la variable globale a été modifiée"
      ],
      "metadata": {
        "colab": {
          "base_uri": "https://localhost:8080/"
        },
        "id": "vHQd29TOhY7B",
        "outputId": "54913a93-c652-4532-cb51-0e1594ca28bb"
      },
      "execution_count": 3,
      "outputs": [
        {
          "output_type": "stream",
          "name": "stdout",
          "text": [
            "20\n",
            "20\n"
          ]
        }
      ]
    },
    {
      "cell_type": "markdown",
      "source": [
        "## Définir des Valeurs Par Défaut pour les Paramètres\n",
        "\n",
        "Il est possible de donner une valeur par défaut à un paramètre dans une fonction. Si un argument correspondant n'est pas passé lors de l'appel de la fonction, cette valeur par défaut sera utilisée.\n",
        "\n",
        "**Exemple :**"
      ],
      "metadata": {
        "id": "MuqxMp4shlu0"
      }
    },
    {
      "cell_type": "code",
      "source": [
        "def saluer(nom=\"Inconnu\"):\n",
        "    print(f\"Bonjour, {nom}!\")\n",
        "\n",
        "saluer(\"Alice\")  # Affiche \"Bonjour, Alice!\"\n",
        "saluer()  # Affiche \"Bonjour, Inconnu!\" car aucun argument n'est passé"
      ],
      "metadata": {
        "colab": {
          "base_uri": "https://localhost:8080/"
        },
        "id": "bDLxKQnyhkAi",
        "outputId": "17e0322d-1316-4bf6-e34c-83d9a4f11b5e"
      },
      "execution_count": 4,
      "outputs": [
        {
          "output_type": "stream",
          "name": "stdout",
          "text": [
            "Bonjour, Alice!\n",
            "Bonjour, Inconnu!\n"
          ]
        }
      ]
    },
    {
      "cell_type": "markdown",
      "source": [
        "Dans cet exemple, le paramètre `nom` a une valeur par défaut de `\"Inconnu\"`. Si aucun argument n'est fourni lors de l'appel, cette valeur sera utilisée.\n",
        "\n",
        "## Exercices\n",
        "\n",
        "1. Somme des Nombres Pairs : Écrivez une fonction qui prend une liste de nombres et renvoie la somme des nombres pairs.\n",
        "2. Vérifier un Palindrome : Écrivez une fonction qui vérifie si un mot est un palindrome (un mot qui se lit de la même façon dans les deux sens).\n",
        "3. Calcul de Factorielle : Écrivez une fonction qui prend un entier et renvoie sa factorielle.\n",
        "4. Trouver le Plus Grand Élément : Écrivez une fonction qui prend une liste de nombres et renvoie le plus grand élément.\n",
        "5. Trouver les Diviseurs d'un Nombre : Écrivez une fonction qui prend un entier et renvoie une liste de ses diviseurs.\n",
        "6. Fibonacci : Écrivez une fonction qui prend un entier n et renvoie le n-ième nombre de la suite de Fibonacci.\n",
        "7.  Vérification de Nombre Premier : Écrivez une fonction qui prend un entier et vérifie s'il est premier.\n",
        "8. Compter les Voyelles dans une Chaîne : Écrivez une fonction qui prend une chaîne et renvoie le nombre de voyelles."
      ],
      "metadata": {
        "id": "lvl9W0hohqPj"
      }
    }
  ]
}
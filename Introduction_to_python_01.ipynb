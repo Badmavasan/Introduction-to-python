{
  "nbformat": 4,
  "nbformat_minor": 0,
  "metadata": {
    "colab": {
      "provenance": []
    },
    "kernelspec": {
      "name": "python3",
      "display_name": "Python 3"
    },
    "language_info": {
      "name": "python"
    }
  },
  "cells": [
    {
      "cell_type": "markdown",
      "source": [
        "# Utilisation des variables en Python\n",
        "\n",
        "## Nommage des variables\n",
        "\n",
        "En Python, il est recommandé de suivre certaines conventions pour nommer les variables afin d'améliorer la lisibilité et la maintenabilité du code. Les deux conventions les plus courantes sont :\n",
        "\n",
        "- **Underscore (snake_case) :** les mots sont séparés par des underscores, par exemple `ma_variable`, `nombre_d_etudiants`.\n",
        "- **CamelCase :** les mots sont joints et chaque mot commence par une majuscule, sauf le premier, par exemple `maVariable`, `nombreDEtudiants`.\n",
        "\n",
        "En Python, la convention la plus utilisée est l'underscore (snake_case). Il est recommandé de la suivre pour la plupart des noms de variables.\n",
        "\n",
        "## Stockage des données dans une variable\n",
        "\n",
        "Pour stocker une donnée dans une variable, on utilise l'opérateur d'affectation =. Par exemple, pour stocker la valeur 10 dans une variable nommée x, on écrit :\n",
        "\n",
        "```\n",
        "x = 10\n",
        "```\n",
        "\n",
        "## Opérateurs arithmétiques\n",
        "\n",
        "<center>\n",
        "\n",
        "| Opérateur | Description | Exemple |\n",
        "|-----------|-------------|---------|\n",
        "| `+` | Addition | `x + y` |\n",
        "| `-` | Soustraction | `x - y` |\n",
        "| `*` | Multiplication | `x * y` |\n",
        "| `/` | Division | `x / y` |\n",
        "| `%` | Modulo (reste de la division) | `x % y` |\n",
        "| `**` | Puissance | `x ** y` |\n",
        "| `//` | Division entière | `x // y` |\n",
        "\n",
        "</center>\n",
        "\n",
        "## Opérateurs relationnels\n",
        "\n",
        "<center>\n",
        "\n",
        "| Opérateur | Description | Exemple |\n",
        "|-----------|-------------|---------|\n",
        "| `==` | Égal à | `x == y` |\n",
        "| `!=` | Différent de | `x != y` |\n",
        "| `>` | Supérieur à | `x > y` |\n",
        "| `<` | Inférieur à | `x < y` |\n",
        "| `>=` | Supérieur ou égal à | `x >= y` |\n",
        "| `<=` | Inférieur ou égal à | `x <= y` |\n",
        "\n",
        "**/!\\ Element retourner : `True` ou `False`**\n",
        "\n",
        "</center>\n",
        "\n",
        "## Fonctions de lecture et d'affichage\n",
        "\n",
        "- `input()` : permet de lire une donnée saisie par l'utilisateur.\n",
        "- `print()` : permet d'afficher une donnée à l'écran.\n",
        "\n",
        "  **Exemple:**\n",
        "\n",
        "  ```\n",
        "  # Lecture d'une donnée\n",
        "  nom = input(\"Entrez votre nom : \")\n",
        "\n",
        "  # Affichage d'une donnée\n",
        "  print(\"Bonjour\", nom)\n",
        "  ```\n",
        "\n",
        "## Les fonctions de type intégrée\n",
        "\n",
        "- `ìnt()` : La fonction convertit une valeur donnée en un entier. Les entiers sont des nombres entiers sans point décimal.\n",
        "\n",
        "  **Exemple**\n",
        "\n",
        "  ```\n",
        "  x = int(\"10\")  # Convertit la chaîne de caractères \"10\" en l'entier 10\n",
        "  print(x)       # Affiche : 10\n",
        "  print(type(x)) # Affiche : <class 'int'>\n",
        "  ```\n",
        "- `float()`: La fonction convertit une valeur donnée en un nombre à virgule flottante. Les nombres à virgule flottante sont des nombres avec des points décimaux.\n",
        "  ```\n",
        "  y = float(\"3.14\")  # Convertit la chaîne de caractères \"3.14\" en le flottant 3.14\n",
        "  print(y)         # Affiche : 3.14\n",
        "  print(type(y))   # Affiche : <class 'float'>\n",
        "  ```\n",
        "\n",
        "  **/!\\ Plus sur les types de variables dans le prochain TP**\n",
        "\n",
        "- Utilisation de `int()` et `float()` avec `input()`\n",
        "\n",
        "  La fonction `input()` lit une ligne de l'entrée de l'utilisateur et la renvoie sous forme de chaîne de caractères. Puisque `input()` renvoie toujours une chaîne de caractères, vous devez utiliser `int()` ou `float()` pour convertir l'entrée au type de données souhaité si vous voulez effectuer des opérations numériques.\n",
        "\n",
        "  **Exemple:**\n",
        "  ```\n",
        "  age = int(input(\"Entrez votre âge : \"))  # Convertit l'entrée en un entier\n",
        "  print(age + 5)                           # Effectue une opération numérique\n",
        "  ```\n",
        "\n",
        "  Dans cet exemple, `input(\"Entrez votre âge : \")` invite l'utilisateur à entrer son âge. La fonction `int()` convertit ensuite l'entrée de l'utilisateur (qui est une chaîne de caractères) en un entier. Enfin, `age + 5` ajoute 5 à l'âge et affiche le résultat.\n",
        "\n",
        "  **Considérations importantes:**\n",
        "  - Si l'utilisateur entre une valeur qui ne peut pas être convertie en entier ou en flottant, une ValueError sera levée.\n",
        "  - Vous devez toujours valider l'entrée de l'utilisateur pour vous assurer qu'elle est au format attendu avant de tenter de la convertir.\n",
        "  \n",
        "  **/!\\ Plus sur la validation des types de variables dans les prochains TPs.**\n",
        "\n",
        "## Exercices\n",
        "\n",
        "- Crée une variable `x` avec la valeur 10, une variable `y` avec la valeur 20, puis affiche-les.\n"
      ],
      "metadata": {
        "id": "0yr0jtovvYdP"
      }
    },
    {
      "cell_type": "code",
      "source": [
        "x = 10\n",
        "y = 20\n",
        "\n",
        "print(\"x =\", x)\n",
        "print(\"y =\", y)\n"
      ],
      "metadata": {
        "colab": {
          "base_uri": "https://localhost:8080/"
        },
        "id": "zrNzBIFROlPD",
        "outputId": "e059e0f0-e75b-413e-ba13-08ab6c26099b"
      },
      "execution_count": 1,
      "outputs": [
        {
          "output_type": "stream",
          "name": "stdout",
          "text": [
            "x = 10\n",
            "y = 20\n"
          ]
        }
      ]
    },
    {
      "cell_type": "markdown",
      "source": [
        "- Écris un programme qui calcule la somme, la différence, le produit, et le quotient de deux variables `a` et `b`, et affiche les résultats.\n",
        "\n"
      ],
      "metadata": {
        "id": "A4eOzffHOlft"
      }
    },
    {
      "cell_type": "code",
      "source": [
        "a = 10\n",
        "b = 5\n",
        "\n",
        "somme = a + b\n",
        "difference = a - b\n",
        "produit = a * b\n",
        "quotient = a / b\n",
        "\n",
        "print(\"La somme de a et b est :\", somme)\n",
        "print(\"La différence entre a et b est :\", difference)\n",
        "print(\"Le produit de a et b est :\", produit)\n",
        "print(\"Le quotient de a et b est :\", quotient)\n"
      ],
      "metadata": {
        "colab": {
          "base_uri": "https://localhost:8080/"
        },
        "id": "_B4bmVP_OnDp",
        "outputId": "257aa14b-ee55-4661-e345-426d98ac524b"
      },
      "execution_count": 2,
      "outputs": [
        {
          "output_type": "stream",
          "name": "stdout",
          "text": [
            "La somme de a et b est : 15\n",
            "La différence entre a et b est : 5\n",
            "Le produit de a et b est : 50\n",
            "Le quotient de a et b est : 2.0\n"
          ]
        }
      ]
    },
    {
      "cell_type": "markdown",
      "source": [
        "- Écris un programme qui compare deux nombres `a` et `b` et affiche si `a` est supérieur à `b`\n"
      ],
      "metadata": {
        "id": "bZRX9JUIOnkz"
      }
    },
    {
      "cell_type": "code",
      "source": [
        "a = 10\n",
        "b = 5\n",
        "\n",
        "if a > b:\n",
        "  print(\"a est supérieur à b\")\n",
        "else:\n",
        "  print(\"a n'est pas supérieur à b\")\n"
      ],
      "metadata": {
        "colab": {
          "base_uri": "https://localhost:8080/"
        },
        "id": "8FOF9HJHOpRv",
        "outputId": "de8f5179-4853-4df7-99dc-7fd14aec5d3c"
      },
      "execution_count": 3,
      "outputs": [
        {
          "output_type": "stream",
          "name": "stdout",
          "text": [
            "a est supérieur à b\n"
          ]
        }
      ]
    },
    {
      "cell_type": "markdown",
      "source": [
        "- Écris un programme qui lit un nombre entier depuis l'utilisateur et affiche s'il est pair"
      ],
      "metadata": {
        "id": "lStgcKZ5Oop1"
      }
    },
    {
      "cell_type": "code",
      "source": [
        "nombre = int(input(\"Entrez un nombre entier : \"))\n",
        "\n",
        "if nombre % 2 == 0:\n",
        "  print(nombre, \"est un nombre pair.\")\n",
        "else:\n",
        "  print(nombre, \"est un nombre impair.\")\n"
      ],
      "metadata": {
        "colab": {
          "base_uri": "https://localhost:8080/"
        },
        "id": "7BJDXkaIOpma",
        "outputId": "82d7ef29-da75-470f-c80e-edca6b84d96e"
      },
      "execution_count": 4,
      "outputs": [
        {
          "output_type": "stream",
          "name": "stdout",
          "text": [
            "Entrez un nombre entier : 12\n",
            "12 est un nombre pair.\n"
          ]
        }
      ]
    }
  ]
}
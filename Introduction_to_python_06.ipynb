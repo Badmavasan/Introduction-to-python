{
  "nbformat": 4,
  "nbformat_minor": 0,
  "metadata": {
    "colab": {
      "provenance": []
    },
    "kernelspec": {
      "name": "python3",
      "display_name": "Python 3"
    },
    "language_info": {
      "name": "python"
    }
  },
  "cells": [
    {
      "cell_type": "markdown",
      "source": [
        "# Set\n",
        "\n",
        "Un set (ensemble) en Python est une collection non ordonnée et non indexée d'éléments uniques. Contrairement aux listes et aux tuples, un set ne peut pas contenir de doublons. Les éléments d'un set doivent être immuables (c'est-à-dire des types comme les nombres, les chaînes de caractères, les tuples), mais le set lui-même est modifiable (on peut y ajouter ou supprimer des éléments).\n",
        "\n",
        "**Exemple :**"
      ],
      "metadata": {
        "id": "NxOwKAKcA52t"
      }
    },
    {
      "cell_type": "code",
      "execution_count": null,
      "metadata": {
        "colab": {
          "base_uri": "https://localhost:8080/"
        },
        "id": "OsBZR885A5Qm",
        "outputId": "e8a5c8d1-314b-4687-9fbe-0fcb8e70a729"
      },
      "outputs": [
        {
          "output_type": "stream",
          "name": "stdout",
          "text": [
            "{1, 2, 3, 4}\n"
          ]
        }
      ],
      "source": [
        "# Définir un set\n",
        "mon_set = {1, 2, 3, 4}\n",
        "print(mon_set)"
      ]
    },
    {
      "cell_type": "markdown",
      "source": [
        "## Différence par rapport aux Listes\n",
        "\n",
        "Les listes sont des collections ordonnées d'éléments où l'ordre est important et où les éléments peuvent être dupliqués. Les sets, en revanche, ne conservent pas d'ordre particulier et n'autorisent pas les éléments en double. De plus, les éléments d'une liste sont accessibles via leur index, ce qui n'est pas possible avec un set.\n",
        "\n",
        "**Exemple d'une Liste :**"
      ],
      "metadata": {
        "id": "qAwipg3DBDSB"
      }
    },
    {
      "cell_type": "code",
      "source": [
        "# Liste avec des éléments en double\n",
        "ma_liste = [1, 2, 2, 3, 4]\n",
        "print(ma_liste)"
      ],
      "metadata": {
        "colab": {
          "base_uri": "https://localhost:8080/"
        },
        "id": "NYVC1EDGBBet",
        "outputId": "f26300a6-7b3e-4771-aa50-3d0c4f8272eb"
      },
      "execution_count": null,
      "outputs": [
        {
          "output_type": "stream",
          "name": "stdout",
          "text": [
            "[1, 2, 2, 3, 4]\n"
          ]
        }
      ]
    },
    {
      "cell_type": "markdown",
      "source": [
        "**Exemple d'un Set :**"
      ],
      "metadata": {
        "id": "YnmCMuI5BOjx"
      }
    },
    {
      "cell_type": "code",
      "source": [
        "# Set sans éléments en double\n",
        "mon_set = {1, 2, 3, 4}\n",
        "print(mon_set)"
      ],
      "metadata": {
        "colab": {
          "base_uri": "https://localhost:8080/"
        },
        "id": "NHHAhnvTBM-v",
        "outputId": "190ebe40-0fe5-4177-954d-2833028d694b"
      },
      "execution_count": null,
      "outputs": [
        {
          "output_type": "stream",
          "name": "stdout",
          "text": [
            "{1, 2, 3, 4}\n"
          ]
        }
      ]
    },
    {
      "cell_type": "markdown",
      "source": [
        "## Ajouter un Élément à un Set\n",
        "\n",
        "Pour ajouter un élément dans un set, on utilise la méthode add(). Si l'élément existe déjà, il ne sera pas ajouté car les sets ne peuvent pas contenir de doublons.\n",
        "\n",
        "**Exemple :**"
      ],
      "metadata": {
        "id": "cgBKxQcMBToc"
      }
    },
    {
      "cell_type": "code",
      "source": [
        "# Ajouter un élément\n",
        "mon_set.add(5)\n",
        "print(mon_set)"
      ],
      "metadata": {
        "colab": {
          "base_uri": "https://localhost:8080/"
        },
        "id": "Iw0xztfEBRea",
        "outputId": "74b4d374-00a5-432a-ce47-8677d15d82a4"
      },
      "execution_count": null,
      "outputs": [
        {
          "output_type": "stream",
          "name": "stdout",
          "text": [
            "{1, 2, 3, 4, 5}\n"
          ]
        }
      ]
    },
    {
      "cell_type": "markdown",
      "source": [
        "## Ajouter un Élément en Double à un Set\n",
        "\n",
        "Si vous essayez d'ajouter un élément en double à un set, Python ne soulèvera pas d'erreur, mais l'élément ne sera tout simplement pas ajouté.\n",
        "\n",
        "**Exemple :**"
      ],
      "metadata": {
        "id": "EAqZn2_qBmZN"
      }
    },
    {
      "cell_type": "code",
      "source": [
        "# Essayer d'ajouter un doublon\n",
        "mon_set.add(3)  # Aucun changement car 3 est déjà dans le set\n",
        "print(mon_set)"
      ],
      "metadata": {
        "colab": {
          "base_uri": "https://localhost:8080/"
        },
        "id": "ziTnJRTABi5w",
        "outputId": "0ed8ba24-cfb5-4b6a-e4de-48fb68be22f6"
      },
      "execution_count": null,
      "outputs": [
        {
          "output_type": "stream",
          "name": "stdout",
          "text": [
            "{1, 2, 3, 4, 5}\n"
          ]
        }
      ]
    },
    {
      "cell_type": "markdown",
      "source": [
        "## Supprimer un Élément d'un Set\n",
        "\n",
        "Pour supprimer un élément d'un set, vous pouvez utiliser les méthodes `remove()` ou `discard()`. La différence est que `remove()` lève une erreur si l'élément n'est pas trouvé, tandis que `discard()` ne fait rien dans ce cas.\n",
        "\n",
        "**Exemple avec `remove()` :**"
      ],
      "metadata": {
        "id": "mxLE1H9gBr8E"
      }
    },
    {
      "cell_type": "code",
      "source": [
        "# Supprimer un élément existant\n",
        "mon_set.remove(2)\n",
        "print(mon_set)"
      ],
      "metadata": {
        "colab": {
          "base_uri": "https://localhost:8080/"
        },
        "id": "r2S4SGe5BrYO",
        "outputId": "260365e1-d79a-4467-dfd0-bc5c3447a278"
      },
      "execution_count": null,
      "outputs": [
        {
          "output_type": "stream",
          "name": "stdout",
          "text": [
            "{1, 3, 4, 5}\n"
          ]
        }
      ]
    },
    {
      "cell_type": "markdown",
      "source": [
        "**Exemple avec `discard()` :**"
      ],
      "metadata": {
        "id": "JrghLf-wB9BQ"
      }
    },
    {
      "cell_type": "code",
      "source": [
        "# Supprimer un élément avec discard (sans erreur si l'élément n'existe pas)\n",
        "mon_set.discard(10)  # Aucun effet, même si 10 n'est pas dans le set\n",
        "print(mon_set)"
      ],
      "metadata": {
        "colab": {
          "base_uri": "https://localhost:8080/"
        },
        "id": "LGOhBJVmB8Lh",
        "outputId": "7318eb0a-b65a-4c92-d249-f24ef67266a9"
      },
      "execution_count": null,
      "outputs": [
        {
          "output_type": "stream",
          "name": "stdout",
          "text": [
            "{1, 3, 4, 5}\n"
          ]
        }
      ]
    },
    {
      "cell_type": "markdown",
      "source": [
        "## Vérifier si un Élément est dans un Set\n",
        "\n",
        "Pour vérifier si un élément fait partie d'un set, on utilise l'opérateur `in`.\n",
        "\n",
        "**Exemple :**"
      ],
      "metadata": {
        "id": "iHEJ_CYTCDVp"
      }
    },
    {
      "cell_type": "code",
      "source": [
        "# Vérifier la présence d'un élément\n",
        "3 in mon_set  # True"
      ],
      "metadata": {
        "colab": {
          "base_uri": "https://localhost:8080/"
        },
        "id": "bw0fMAbaCCp_",
        "outputId": "49417dbb-a010-42ee-9d5b-87139e0ea7fe"
      },
      "execution_count": null,
      "outputs": [
        {
          "output_type": "execute_result",
          "data": {
            "text/plain": [
              "True"
            ]
          },
          "metadata": {},
          "execution_count": 9
        }
      ]
    },
    {
      "cell_type": "markdown",
      "source": [
        "## Opérations Logiques sur les Sets\n",
        "\n",
        "Les sets en Python prennent en charge plusieurs opérations logiques comme l'intersection, la différence, l'union, le sous-ensemble et le super-ensemble.\n",
        "\n",
        "### Intersection de Sets\n",
        "\n",
        "Renvoie les éléments communs entre deux sets.\n",
        "\n",
        "**Exemple :**"
      ],
      "metadata": {
        "id": "G-7y19y5CL76"
      }
    },
    {
      "cell_type": "code",
      "source": [
        "set1 = {1, 2, 3, 4}\n",
        "set2 = {3, 4, 5, 6}\n",
        "intersection = set1 & set2  # {3, 4}\n",
        "print(intersection)"
      ],
      "metadata": {
        "colab": {
          "base_uri": "https://localhost:8080/"
        },
        "id": "zlGx29HHCK2_",
        "outputId": "f6da6288-0a94-45cc-989d-519dd1e093c2"
      },
      "execution_count": null,
      "outputs": [
        {
          "output_type": "stream",
          "name": "stdout",
          "text": [
            "{3, 4}\n"
          ]
        }
      ]
    },
    {
      "cell_type": "markdown",
      "source": [
        "### Différence de Sets\n",
        "\n",
        "Renvoie les éléments qui sont dans le premier set mais pas dans le second.\n",
        "\n",
        "**Exemple :**"
      ],
      "metadata": {
        "id": "GBfyq-LfCWvo"
      }
    },
    {
      "cell_type": "code",
      "source": [
        "difference = set1 - set2  # {1, 2}\n",
        "print(difference)"
      ],
      "metadata": {
        "colab": {
          "base_uri": "https://localhost:8080/"
        },
        "id": "-FKt65OICVEv",
        "outputId": "a708edcb-ca93-4578-d439-58796cfd25ea"
      },
      "execution_count": null,
      "outputs": [
        {
          "output_type": "stream",
          "name": "stdout",
          "text": [
            "{1, 2}\n"
          ]
        }
      ]
    },
    {
      "cell_type": "markdown",
      "source": [
        "### Union de Sets\n",
        "\n",
        "Renvoie un set contenant tous les éléments de deux sets, sans doublons.\n",
        "\n",
        "**Exemple :**"
      ],
      "metadata": {
        "id": "OEBR7K51Cfie"
      }
    },
    {
      "cell_type": "code",
      "source": [
        "union = set1 | set2  # {1, 2, 3, 4, 5, 6}\n",
        "print(union)"
      ],
      "metadata": {
        "colab": {
          "base_uri": "https://localhost:8080/"
        },
        "id": "NmEmgyltCe31",
        "outputId": "892d4930-d8f0-409c-a8d0-77fd629535a1"
      },
      "execution_count": null,
      "outputs": [
        {
          "output_type": "stream",
          "name": "stdout",
          "text": [
            "{1, 2, 3, 4, 5, 6}\n"
          ]
        }
      ]
    },
    {
      "cell_type": "markdown",
      "source": [
        "### Sous-ensemble (Subset)\n",
        "\n",
        "Vérifie si tous les éléments d'un set sont dans un autre set.\n",
        "\n",
        "**Exemple :**"
      ],
      "metadata": {
        "id": "w0kXjoIQCng6"
      }
    },
    {
      "cell_type": "code",
      "source": [
        "subset = {1, 2}\n",
        "is_subset = subset.issubset(set1)  # True\n",
        "print(is_subset)"
      ],
      "metadata": {
        "colab": {
          "base_uri": "https://localhost:8080/"
        },
        "id": "pTy6USDhClih",
        "outputId": "4227bb57-1189-443c-84c0-615659810692"
      },
      "execution_count": null,
      "outputs": [
        {
          "output_type": "stream",
          "name": "stdout",
          "text": [
            "True\n"
          ]
        }
      ]
    },
    {
      "cell_type": "markdown",
      "source": [
        "### Super-ensemble (Superset)\n",
        "\n",
        "Vérifie si tous les éléments d'un autre set sont présents dans le set courant.\n",
        "\n",
        "**Exemple :**"
      ],
      "metadata": {
        "id": "xhmIz0MNCsFB"
      }
    },
    {
      "cell_type": "code",
      "source": [
        "is_superset = set1.issuperset(subset)  # True\n",
        "print(is_superset)"
      ],
      "metadata": {
        "colab": {
          "base_uri": "https://localhost:8080/"
        },
        "id": "Cclq9bfbCrSs",
        "outputId": "5ed2854e-b35d-455e-8ece-fd5adb093949"
      },
      "execution_count": null,
      "outputs": [
        {
          "output_type": "stream",
          "name": "stdout",
          "text": [
            "True\n"
          ]
        }
      ]
    },
    {
      "cell_type": "markdown",
      "source": [
        "## Autres Opérations sur les Sets\n",
        "\n",
        "- `copy()` : Crée une copie du set.\n",
        "- `clear()` : Vide tous les éléments du set.\n",
        "- `symmetric_difference()` : Renvoie les éléments présents dans un set mais pas dans l'autre, et vice versa (les éléments uniques à chaque set).\n",
        "- `update()` : Ajoute les éléments d'un autre set au set courant.\n",
        "\n",
        "**Exemple :**"
      ],
      "metadata": {
        "id": "s29E9UNjC40I"
      }
    },
    {
      "cell_type": "code",
      "source": [
        "set1 = {1, 2, 3}\n",
        "set2 = {3, 4, 5}\n",
        "\n",
        "# Utilisation de symmetric_difference()\n",
        "sym_diff = set1.symmetric_difference(set2)  # {1, 2, 4, 5}\n",
        "print(sym_diff)\n",
        "\n",
        "# Copier un set\n",
        "copie_set = set1.copy()\n",
        "print(copie_set, set1)\n",
        "\n",
        "# Vider un set\n",
        "set1.clear()\n",
        "print(set1)"
      ],
      "metadata": {
        "colab": {
          "base_uri": "https://localhost:8080/"
        },
        "id": "nMc-_q1JCxCl",
        "outputId": "e9fb6427-3a49-48e2-f745-7e1ee96f7c91"
      },
      "execution_count": null,
      "outputs": [
        {
          "output_type": "stream",
          "name": "stdout",
          "text": [
            "{1, 2, 4, 5}\n",
            "{1, 2, 3} {1, 2, 3}\n",
            "set()\n"
          ]
        }
      ]
    },
    {
      "cell_type": "markdown",
      "source": [
        "# Exercices de Programmation sur les Sets\n",
        "\n",
        "1. Créer un set avec cinq éléments et ajouter un nouvel élément.\n"
      ],
      "metadata": {
        "id": "YbYjX33EDPx9"
      }
    },
    {
      "cell_type": "code",
      "source": [
        "my_set = {1, 2, 3, 4, 5}\n",
        "my_set.add(6)\n",
        "print(my_set)"
      ],
      "metadata": {
        "colab": {
          "base_uri": "https://localhost:8080/"
        },
        "id": "jMXXO6HR9bMl",
        "outputId": "76bb8e1f-6c08-41ab-93d6-639087f598a2"
      },
      "execution_count": 1,
      "outputs": [
        {
          "output_type": "stream",
          "name": "stdout",
          "text": [
            "{1, 2, 3, 4, 5, 6}\n"
          ]
        }
      ]
    },
    {
      "cell_type": "markdown",
      "source": [
        "2. Essayer d'ajouter un élément en double à un set.\n"
      ],
      "metadata": {
        "id": "cCfld5b79bfD"
      }
    },
    {
      "cell_type": "code",
      "source": [
        "my_set = {1, 2, 3}\n",
        "my_set.add(3)  # Essayer d'ajouter 3, qui est déjà présent\n",
        "print(my_set)  # Le set restera inchangé\n"
      ],
      "metadata": {
        "colab": {
          "base_uri": "https://localhost:8080/"
        },
        "id": "qRZ6rtX-9c4e",
        "outputId": "57f689cb-edc2-4a70-cb63-36f4561b5658"
      },
      "execution_count": 2,
      "outputs": [
        {
          "output_type": "stream",
          "name": "stdout",
          "text": [
            "{1, 2, 3}\n"
          ]
        }
      ]
    },
    {
      "cell_type": "markdown",
      "source": [
        "3. Vérifier si un élément est dans un set.\n"
      ],
      "metadata": {
        "id": "3GNXu0hq9dNt"
      }
    },
    {
      "cell_type": "code",
      "source": [
        "my_set = {1, 2, 3, 4, 5}\n",
        "element_to_check = 3\n",
        "\n",
        "if element_to_check in my_set:\n",
        "  print(f\"{element_to_check} est dans le set.\")\n",
        "else:\n",
        "  print(f\"{element_to_check} n'est pas dans le set.\")\n"
      ],
      "metadata": {
        "id": "_pVlokgz9euA"
      },
      "execution_count": null,
      "outputs": []
    },
    {
      "cell_type": "markdown",
      "source": [
        "4. Créer deux sets et calculer leur intersection.\n"
      ],
      "metadata": {
        "id": "8jIRjisj9e-W"
      }
    },
    {
      "cell_type": "code",
      "source": [
        "set1 = {1, 2, 3, 4, 5}\n",
        "set2 = {4, 5, 6, 7, 8}\n",
        "\n",
        "intersection = set1.intersection(set2)\n",
        "print(intersection)"
      ],
      "metadata": {
        "colab": {
          "base_uri": "https://localhost:8080/"
        },
        "id": "1Vps56D99hqV",
        "outputId": "1348d2c1-05f3-424d-fc22-a23becc116d1"
      },
      "execution_count": 3,
      "outputs": [
        {
          "output_type": "stream",
          "name": "stdout",
          "text": [
            "{4, 5}\n"
          ]
        }
      ]
    },
    {
      "cell_type": "markdown",
      "source": [
        "5. Calculer la différence entre deux sets.\n"
      ],
      "metadata": {
        "id": "1n4EELuE9h_R"
      }
    },
    {
      "cell_type": "code",
      "source": [
        "set1 = {1, 2, 3, 4, 5}\n",
        "set2 = {4, 5, 6, 7, 8}\n",
        "\n",
        "difference = set1 - set2\n",
        "print(difference)\n"
      ],
      "metadata": {
        "colab": {
          "base_uri": "https://localhost:8080/"
        },
        "id": "elLA2kQj9jW3",
        "outputId": "5d674265-9f21-4f20-af7c-c5e0242d8f93"
      },
      "execution_count": 5,
      "outputs": [
        {
          "output_type": "stream",
          "name": "stdout",
          "text": [
            "{1, 2, 3}\n"
          ]
        }
      ]
    },
    {
      "cell_type": "markdown",
      "source": [
        "6. Créer l'union de deux sets et vérifier le résultat."
      ],
      "metadata": {
        "id": "JRvvr_4e9jnE"
      }
    },
    {
      "cell_type": "code",
      "source": [
        "set1 = {1, 2, 3, 4, 5}\n",
        "set2 = {4, 5, 6, 7, 8}\n",
        "\n",
        "union = set1 | set2\n",
        "print(union)\n"
      ],
      "metadata": {
        "colab": {
          "base_uri": "https://localhost:8080/"
        },
        "id": "GwIIit8j9kyq",
        "outputId": "a7f5441e-90d9-48d0-92d0-69fa18852a24"
      },
      "execution_count": 6,
      "outputs": [
        {
          "output_type": "stream",
          "name": "stdout",
          "text": [
            "{1, 2, 3, 4, 5, 6, 7, 8}\n"
          ]
        }
      ]
    }
  ]
}
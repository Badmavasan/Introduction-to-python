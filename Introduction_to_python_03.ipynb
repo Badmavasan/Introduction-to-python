{
  "nbformat": 4,
  "nbformat_minor": 0,
  "metadata": {
    "colab": {
      "provenance": []
    },
    "kernelspec": {
      "name": "python3",
      "display_name": "Python 3"
    },
    "language_info": {
      "name": "python"
    }
  },
  "cells": [
    {
      "cell_type": "markdown",
      "source": [
        "# List\n",
        "\n",
        "Une liste en Python est une séquence ordonnée d'éléments, qui peuvent être de types variés (entiers, chaînes de caractères, flottants, etc.). Une liste est définie entre crochets [], et ses éléments sont séparés par des virgules.\n",
        "\n",
        "**Exemple :**\n",
        "\n",
        "```\n",
        "ma_liste = [1, 2, 3, \"Python\", 4.5]\n",
        "```\n",
        "\n",
        "## Indexation\n",
        "\n",
        "Les éléments d'une liste sont indexés à partir de 0. On peut accéder à un élément spécifique d'une liste en utilisant son indice.\n",
        "\n",
        "**Exemple :**\n",
        "\n",
        "```\n",
        "ma_liste = [10, 20, 30, 40]\n",
        "print(ma_liste[1])  # Affiche 20\n",
        "```\n",
        "\n",
        "On peut aussi utiliser des indices négatifs pour accéder aux éléments depuis la fin de la liste.\n",
        "\n",
        "**Exemple :**\n",
        "\n",
        "```\n",
        "print(ma_liste[-1])  # Affiche 40\n",
        "```\n",
        "\n",
        "## Slicing (Découpage)\n",
        "\n",
        "Le slicing permet d'extraire une portion de la liste en spécifiant un intervalle d'indices.\n",
        "\n",
        "Syntaxe :\n",
        "\n",
        "```\n",
        "ma_liste[start:stop:step]\n",
        "\n",
        "    start : indice de début (inclus)\n",
        "    stop : indice de fin (exclu)\n",
        "    step : pas (optionnel)\n",
        "```\n",
        "\n",
        "**Exemple :**\n",
        "\n",
        "```\n",
        "ma_liste = [0, 1, 2, 3, 4, 5]\n",
        "print(ma_liste[1:4])  # Affiche [1, 2, 3]\n",
        "```\n",
        "\n",
        "## Méthodes intégrées pour les listes\n",
        "### append()\n",
        "\n",
        "Ajoute un élément à la fin de la liste.\n",
        "\n",
        "```\n",
        "ma_liste = [1, 2, 3]\n",
        "ma_liste.append(4)\n",
        "print(ma_liste)  # Affiche [1, 2, 3, 4]\n",
        "```\n",
        "\n",
        "### extend()\n",
        "\n",
        "Ajoute plusieurs éléments à la fin de la liste.\n",
        "\n",
        "```\n",
        "ma_liste = [1, 2, 3]\n",
        "ma_liste.extend([4, 5])\n",
        "print(ma_liste)  # Affiche [1, 2, 3, 4, 5]\n",
        "```\n",
        "\n",
        "### insert()\n",
        "\n",
        "Insère un élément à une position spécifique.\n",
        "\n",
        "```\n",
        "ma_liste = [1, 2, 4]\n",
        "ma_liste.insert(2, 3)\n",
        "print(ma_liste)  # Affiche [1, 2, 3, 4]\n",
        "```\n",
        "\n",
        "### remove()\n",
        "\n",
        "Supprime la première occurrence d'un élément.\n",
        "\n",
        "```\n",
        "ma_liste = [1, 2, 3, 2]\n",
        "ma_liste.remove(2)\n",
        "print(ma_liste)  # Affiche [1, 3, 2]\n",
        "```\n",
        "\n",
        "### pop()\n",
        "\n",
        "Supprime et renvoie l'élément à un indice spécifique (par défaut, le dernier).\n",
        "\n",
        "```\n",
        "ma_liste = [1, 2, 3]\n",
        "ma_liste.pop(1)\n",
        "print(ma_liste)  # Affiche [1, 3]\n",
        "```\n",
        "\n",
        "### count()\n",
        "\n",
        "Compte le nombre d'occurrences d'un élément dans la liste.\n",
        "\n",
        "```\n",
        "ma_liste = [1, 2, 2, 3]\n",
        "print(ma_liste.count(2))  # Affiche 2\n",
        "```\n",
        "\n",
        "### index()\n",
        "\n",
        "Renvoie l'indice de la première occurrence d'un élément.\n",
        "\n",
        "```\n",
        "ma_liste = [1, 2, 3]\n",
        "print(ma_liste.index(3))  # Affiche 2\n",
        "```\n",
        "\n",
        "### sort()\n",
        "\n",
        "Trie la liste en place.\n",
        "\n",
        "```\n",
        "ma_liste = [3, 1, 2]\n",
        "ma_liste.sort()\n",
        "print(ma_liste)  # Affiche [1, 2, 3]\n",
        "```\n",
        "\n",
        "### reverse()\n",
        "\n",
        "Inverse l'ordre des éléments de la liste.\n",
        "\n",
        "```\n",
        "ma_liste = [1, 2, 3]\n",
        "ma_liste.reverse()\n",
        "print(ma_liste)  # Affiche [3, 2, 1]\n",
        "```\n",
        "\n",
        "### min() et max()\n",
        "\n",
        "Renvoie respectivement le minimum et le maximum de la liste.\n",
        "\n",
        "```\n",
        "ma_liste = [1, 2, 3]\n",
        "print(min(ma_liste))  # Affiche 1\n",
        "print(max(ma_liste))  # Affiche 3\n",
        "```\n",
        "\n",
        "### Copier une liste\n",
        "\n",
        "Il est possible de copier une liste en utilisant la méthode copy() ou le slicing [:].\n",
        "\n",
        "```\n",
        "ma_liste = [1, 2, 3]\n",
        "copie_liste = ma_liste.copy()\n",
        "# ou bien\n",
        "copie_liste = ma_liste[:]\n",
        "```\n",
        "\n",
        "# Questions\n",
        "\n",
        "1. Accéder au troisième élément de la liste ma_liste = [5, 10, 15, 20, 25] et l'afficher.\n",
        "\n"
      ],
      "metadata": {
        "id": "2D0YiIeY6R5h"
      }
    },
    {
      "cell_type": "code",
      "source": [
        "ma_liste = [5, 10, 15, 20, 25]\n",
        "print(ma_liste[2])\n"
      ],
      "metadata": {
        "colab": {
          "base_uri": "https://localhost:8080/"
        },
        "id": "BNeAeLtSQPjL",
        "outputId": "edcec32b-7369-435b-9221-acd8ed2b0053"
      },
      "execution_count": 2,
      "outputs": [
        {
          "output_type": "stream",
          "name": "stdout",
          "text": [
            "15\n"
          ]
        }
      ]
    },
    {
      "cell_type": "markdown",
      "source": [
        "2. Ajouter l'élément 42 à la fin de la liste ma_liste = [1, 2, 3].\n"
      ],
      "metadata": {
        "id": "gNIs5QKeQPxu"
      }
    },
    {
      "cell_type": "code",
      "source": [
        "ma_liste = [1, 2, 3]\n",
        "ma_liste.append(42)\n",
        "print(ma_liste)\n"
      ],
      "metadata": {
        "colab": {
          "base_uri": "https://localhost:8080/"
        },
        "id": "gQdU-BnIQRqQ",
        "outputId": "193aeea5-8849-4c37-df80-2d252e1cb060"
      },
      "execution_count": 4,
      "outputs": [
        {
          "output_type": "stream",
          "name": "stdout",
          "text": [
            "[1, 2, 3, 42]\n"
          ]
        }
      ]
    },
    {
      "cell_type": "markdown",
      "source": [
        "3. Insérer l'élément 7 à l'indice 2 dans la liste ma_liste = [1, 2, 8, 9].\n"
      ],
      "metadata": {
        "id": "L3ADjAVXQR3S"
      }
    },
    {
      "cell_type": "code",
      "source": [
        "ma_liste = [1, 2, 8, 9]\n",
        "ma_liste.insert(2, 7)\n",
        "print(ma_liste)\n"
      ],
      "metadata": {
        "colab": {
          "base_uri": "https://localhost:8080/"
        },
        "id": "Aflb2o_oQTjI",
        "outputId": "dd6faed4-3923-41de-c626-ec2fd3f538b0"
      },
      "execution_count": 5,
      "outputs": [
        {
          "output_type": "stream",
          "name": "stdout",
          "text": [
            "[1, 2, 7, 8, 9]\n"
          ]
        }
      ]
    },
    {
      "cell_type": "markdown",
      "source": [
        "4. Supprimer la première occurrence de l'élément 5 dans la liste ma_liste = [5, 2, 3, 5, 4].\n"
      ],
      "metadata": {
        "id": "MXjUVRgtQT5t"
      }
    },
    {
      "cell_type": "code",
      "source": [
        "ma_liste = [5, 2, 3, 5, 4]\n",
        "ma_liste.remove(5)\n",
        "print(ma_liste)\n"
      ],
      "metadata": {
        "colab": {
          "base_uri": "https://localhost:8080/"
        },
        "id": "maxOhFzwQYEO",
        "outputId": "16de54cc-9828-4519-d7b1-f18b084410ed"
      },
      "execution_count": 6,
      "outputs": [
        {
          "output_type": "stream",
          "name": "stdout",
          "text": [
            "[2, 3, 5, 4]\n"
          ]
        }
      ]
    },
    {
      "cell_type": "markdown",
      "source": [
        "5. Récupérer et supprimer le dernier élément de la liste ma_liste = [10, 20, 30, 40], et l'afficher.\n"
      ],
      "metadata": {
        "id": "XZERQw3WQVda"
      }
    },
    {
      "cell_type": "code",
      "source": [
        "ma_liste = [10, 20, 30, 40]\n",
        "dernier_element = ma_liste.pop()\n",
        "print(dernier_element)\n"
      ],
      "metadata": {
        "colab": {
          "base_uri": "https://localhost:8080/"
        },
        "id": "0hQnZADvQXsJ",
        "outputId": "cea27a1c-0a82-43d4-e7e9-316006db7c07"
      },
      "execution_count": 7,
      "outputs": [
        {
          "output_type": "stream",
          "name": "stdout",
          "text": [
            "40\n"
          ]
        }
      ]
    },
    {
      "cell_type": "markdown",
      "source": [
        "6. Trouver et afficher l'indice de la première occurrence de l'élément 8 dans la liste ma_liste = [3, 8, 4, 8].\n"
      ],
      "metadata": {
        "id": "7EL4jzLxQXMf"
      }
    },
    {
      "cell_type": "code",
      "source": [
        "ma_liste = [3, 8, 4, 8]\n",
        "indice = ma_liste.index(8)\n",
        "print(indice)\n"
      ],
      "metadata": {
        "colab": {
          "base_uri": "https://localhost:8080/"
        },
        "id": "wj_rF6LjQZ_t",
        "outputId": "8b1929d4-239b-407e-eaf1-71302b3337ef"
      },
      "execution_count": 8,
      "outputs": [
        {
          "output_type": "stream",
          "name": "stdout",
          "text": [
            "1\n"
          ]
        }
      ]
    },
    {
      "cell_type": "markdown",
      "source": [
        "7. Trier la liste ma_liste = [3, 1, 2] dans l'ordre croissant.\n"
      ],
      "metadata": {
        "id": "Xxo-IZiYQaRd"
      }
    },
    {
      "cell_type": "code",
      "source": [
        "ma_liste = [3, 1, 2]\n",
        "ma_liste.sort()\n",
        "print(ma_liste)\n"
      ],
      "metadata": {
        "colab": {
          "base_uri": "https://localhost:8080/"
        },
        "id": "CWc8oSIrQbw7",
        "outputId": "847f1be2-40ac-4992-c908-14a2ded7f41a"
      },
      "execution_count": 9,
      "outputs": [
        {
          "output_type": "stream",
          "name": "stdout",
          "text": [
            "[1, 2, 3]\n"
          ]
        }
      ]
    },
    {
      "cell_type": "markdown",
      "source": [
        "8. Inverser l'ordre des éléments de la liste ma_liste = [1, 2, 3, 4] et afficher la nouvelle liste.\n"
      ],
      "metadata": {
        "id": "vvrLnRTDQcCS"
      }
    },
    {
      "cell_type": "code",
      "source": [
        "ma_liste = [1, 2, 3, 4]\n",
        "ma_liste.reverse()\n",
        "print(ma_liste)\n"
      ],
      "metadata": {
        "colab": {
          "base_uri": "https://localhost:8080/"
        },
        "id": "jvigkon6QdXx",
        "outputId": "03df3d73-548f-46d9-ff40-9360dbacf160"
      },
      "execution_count": 10,
      "outputs": [
        {
          "output_type": "stream",
          "name": "stdout",
          "text": [
            "[4, 3, 2, 1]\n"
          ]
        }
      ]
    },
    {
      "cell_type": "markdown",
      "source": [
        "9. Compter combien de fois l'élément 10 apparaît dans la liste ma_liste = [10, 20, 10, 30, 10] et l'afficher.\n"
      ],
      "metadata": {
        "id": "6DD7vSbvQdl_"
      }
    },
    {
      "cell_type": "code",
      "source": [
        "ma_liste = [10, 20, 10, 30, 10]\n",
        "nombre_occurrences = ma_liste.count(10)\n",
        "print(nombre_occurrences)\n"
      ],
      "metadata": {
        "colab": {
          "base_uri": "https://localhost:8080/"
        },
        "id": "Uau3iQcsQe5B",
        "outputId": "a64df3a6-f80f-4be9-aef7-3a884f2fb1dc"
      },
      "execution_count": 11,
      "outputs": [
        {
          "output_type": "stream",
          "name": "stdout",
          "text": [
            "3\n"
          ]
        }
      ]
    },
    {
      "cell_type": "markdown",
      "source": [
        "10. Copier la liste ma_liste = [1, 2, 3] dans une nouvelle liste nouvelle_liste et afficher nouvelle_liste."
      ],
      "metadata": {
        "id": "tbiPR3moQfKL"
      }
    },
    {
      "cell_type": "code",
      "source": [
        "ma_liste = [1, 2, 3]\n",
        "nouvelle_liste = ma_liste.copy()\n",
        "print(nouvelle_liste)\n"
      ],
      "metadata": {
        "colab": {
          "base_uri": "https://localhost:8080/"
        },
        "id": "K_U0unpSQgIZ",
        "outputId": "9a2ae592-8960-4856-9c8c-d64c6a338f65"
      },
      "execution_count": 12,
      "outputs": [
        {
          "output_type": "stream",
          "name": "stdout",
          "text": [
            "[1, 2, 3]\n"
          ]
        }
      ]
    }
  ]
}
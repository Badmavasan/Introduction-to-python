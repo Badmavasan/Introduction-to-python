{
  "nbformat": 4,
  "nbformat_minor": 0,
  "metadata": {
    "colab": {
      "provenance": []
    },
    "kernelspec": {
      "name": "python3",
      "display_name": "Python 3"
    },
    "language_info": {
      "name": "python"
    }
  },
  "cells": [
    {
      "cell_type": "markdown",
      "source": [
        "# Tuples\n",
        "\n",
        "Un tuple en Python est une collection ordonnée et immuable d'éléments. Contrairement aux listes, les tuples ne peuvent pas être modifiés après leur création, c'est-à-dire qu'on ne peut ni ajouter, ni supprimer, ni modifier les éléments dans un tuple. Ils sont définis à l'aide de parenthèses () et peuvent contenir des types de données variés.\n",
        "\n",
        "**Exemple :**"
      ],
      "metadata": {
        "id": "kpkqlWKW2taX"
      }
    },
    {
      "cell_type": "code",
      "source": [
        "# Définir un tuple\n",
        "mon_tuple = (1, 2, 3, 'a', 'b', 'c')\n",
        "print(mon_tuple)"
      ],
      "metadata": {
        "colab": {
          "base_uri": "https://localhost:8080/"
        },
        "id": "b3A2hIJ148JT",
        "outputId": "fe7bde4c-d0f9-430e-b32d-1b7b23212ba8"
      },
      "execution_count": null,
      "outputs": [
        {
          "output_type": "stream",
          "name": "stdout",
          "text": [
            "(1, 2, 3, 'a', 'b', 'c')\n"
          ]
        }
      ]
    },
    {
      "cell_type": "markdown",
      "source": [
        "Les tuples sont utiles lorsqu'on veut stocker plusieurs éléments et qu'on veut garantir qu'ils ne seront pas modifiés, comme dans le cas des coordonnées ou d'autres ensembles de données fixes.\n",
        "\n",
        "## Indexation des Tuples\n",
        "\n",
        "L'indexation permet d'accéder à des éléments spécifiques dans un tuple. En Python, l'indexation commence à `0`, ce qui signifie que le premier élément est à l'indice `0`, le deuxième à l'indice `1`, etc.\n",
        "\n",
        "**Exemple :**"
      ],
      "metadata": {
        "id": "abl1zxD04_qp"
      }
    },
    {
      "cell_type": "code",
      "source": [
        "# Accéder aux éléments par indexation\n",
        "mon_tuple = (10, 20, 30, 40, 50)\n",
        "premier_element = mon_tuple[0]  # 10\n",
        "deuxieme_element = mon_tuple[1]  # 20\n",
        "print(premier_element, deuxieme_element)"
      ],
      "metadata": {
        "colab": {
          "base_uri": "https://localhost:8080/"
        },
        "id": "OuFiLwy15B0V",
        "outputId": "18ac8dc7-b5fe-47bb-b06d-2491bb87c2f0"
      },
      "execution_count": null,
      "outputs": [
        {
          "output_type": "stream",
          "name": "stdout",
          "text": [
            "10 20\n"
          ]
        }
      ]
    },
    {
      "cell_type": "markdown",
      "source": [
        "L'indexation négative permet d'accéder aux éléments en partant de la fin du tuple, où -1 représente le dernier élément.\n",
        "\n",
        "**Exemple :**"
      ],
      "metadata": {
        "id": "jULu8H9B5Cta"
      }
    },
    {
      "cell_type": "code",
      "source": [
        "# Accéder au dernier élément avec une indexation négative\n",
        "dernier_element = mon_tuple[-1]  # 50\n",
        "print(dernier_element)"
      ],
      "metadata": {
        "colab": {
          "base_uri": "https://localhost:8080/"
        },
        "id": "gNRXKGy55LjN",
        "outputId": "9e65da99-f019-48a2-8ce9-25be3b400246"
      },
      "execution_count": null,
      "outputs": [
        {
          "output_type": "stream",
          "name": "stdout",
          "text": [
            "50\n"
          ]
        }
      ]
    },
    {
      "cell_type": "markdown",
      "source": [
        "## Découpage des Tuples (Slicing)\n",
        "\n",
        "Le découpage permet d'extraire une partie d'un tuple en spécifiant une plage d'indices. La syntaxe est `tuple[start:end:step]`. L'opération inclut l'indice de début mais exclut l'indice de fin.\n",
        "\n",
        "**Exemple :**"
      ],
      "metadata": {
        "id": "xr4qOZWP5NCi"
      }
    },
    {
      "cell_type": "code",
      "source": [
        "# Découpage d'un tuple\n",
        "mon_tuple = (10, 20, 30, 40, 50)\n",
        "sous_tuple = mon_tuple[1:4]  # (20, 30, 40)\n",
        "print(sous_tuple)"
      ],
      "metadata": {
        "colab": {
          "base_uri": "https://localhost:8080/"
        },
        "id": "AlBH7o3_5Sid",
        "outputId": "a880f7bf-e8db-42d1-bfc9-ebac2f03a3d4"
      },
      "execution_count": null,
      "outputs": [
        {
          "output_type": "stream",
          "name": "stdout",
          "text": [
            "(20, 30, 40)\n"
          ]
        }
      ]
    },
    {
      "cell_type": "markdown",
      "source": [
        "On peut également utiliser des pas dans le découpage :"
      ],
      "metadata": {
        "id": "EAJYbGLF5TvQ"
      }
    },
    {
      "cell_type": "code",
      "source": [
        "# Découpage avec un pas\n",
        "sous_tuple_avec_pas = mon_tuple[::2]  # (10, 30, 50)\n",
        "print(sous_tuple_avec_pas)"
      ],
      "metadata": {
        "colab": {
          "base_uri": "https://localhost:8080/"
        },
        "id": "FUT2WfSY5V4P",
        "outputId": "17af100a-ed86-42d0-c5d5-f4ff97f6e9c9"
      },
      "execution_count": null,
      "outputs": [
        {
          "output_type": "stream",
          "name": "stdout",
          "text": [
            "(10, 30, 50)\n"
          ]
        }
      ]
    },
    {
      "cell_type": "markdown",
      "source": [
        "## Tri des Tuples\n",
        "\n",
        "Les tuples étant immuables, ils ne peuvent pas être triés directement. Cependant, on peut utiliser la fonction `sorted()` qui renvoie une liste triée des éléments du tuple.\n",
        "\n",
        "**Exemple :**"
      ],
      "metadata": {
        "id": "JjlQcxlT5ZBV"
      }
    },
    {
      "cell_type": "code",
      "source": [
        "mon_tuple = (50, 20, 30, 10, 40)\n",
        "tuple_trie = tuple(sorted(mon_tuple))  # (10, 20, 30, 40, 50)\n",
        "print(tuple_trie)"
      ],
      "metadata": {
        "colab": {
          "base_uri": "https://localhost:8080/"
        },
        "id": "QlqW8EhQ5eLb",
        "outputId": "07cefdc7-d876-411c-dfe7-b6897f5c2bc8"
      },
      "execution_count": null,
      "outputs": [
        {
          "output_type": "stream",
          "name": "stdout",
          "text": [
            "(10, 20, 30, 40, 50)\n"
          ]
        }
      ]
    },
    {
      "cell_type": "markdown",
      "source": [
        "## Tuples Imbriqués (Nested Tuples)\n",
        "\n",
        "Un tuple imbriqué est un tuple qui contient d'autres tuples en tant qu'éléments. Cela peut être utile pour structurer des données complexes.\n",
        "\n",
        "**Exemple :**"
      ],
      "metadata": {
        "id": "UQ1ARPLh5fZT"
      }
    },
    {
      "cell_type": "code",
      "source": [
        "# Tuple imbriqué\n",
        "tuple_imbrique = (1, (2, 3), (4, (5, 6)))\n",
        "print(tuple_imbrique)"
      ],
      "metadata": {
        "colab": {
          "base_uri": "https://localhost:8080/"
        },
        "id": "bL1UU1n55nWD",
        "outputId": "aadddf8b-ba52-4598-c078-e26fd6ee5c29"
      },
      "execution_count": null,
      "outputs": [
        {
          "output_type": "stream",
          "name": "stdout",
          "text": [
            "(1, (2, 3), (4, (5, 6)))\n"
          ]
        }
      ]
    },
    {
      "cell_type": "markdown",
      "source": [
        "## Accès aux Valeurs dans des Tuples Imbriqués\n",
        "\n",
        "Pour accéder aux éléments dans un tuple imbriqué, on utilise plusieurs indices correspondant aux niveaux d'imbrication.\n",
        "\n",
        "**Exemple :**"
      ],
      "metadata": {
        "id": "xmFoTziV5oQS"
      }
    },
    {
      "cell_type": "code",
      "source": [
        "tuple_imbrique = (1, (2, 3), (4, (5, 6)))\n",
        "element = tuple_imbrique[1][1]  # Accéder à 3\n",
        "element_profond = tuple_imbrique[2][1][0]  # Accéder à 5\n",
        "print(element, element_profond)"
      ],
      "metadata": {
        "colab": {
          "base_uri": "https://localhost:8080/"
        },
        "id": "w79i1NUC5sIC",
        "outputId": "64ccc34b-268b-4318-9e83-589604ccaa1f"
      },
      "execution_count": null,
      "outputs": [
        {
          "output_type": "stream",
          "name": "stdout",
          "text": [
            "3 5\n"
          ]
        }
      ]
    },
    {
      "cell_type": "markdown",
      "source": [
        "# Exercices de Programmation sur les Tuples\n",
        "\n",
        "1. Créer un tuple avec 5 éléments et accéder au deuxième élément\n",
        "\n"
      ],
      "metadata": {
        "id": "XqK0R16I5tf9"
      }
    },
    {
      "cell_type": "code",
      "source": [
        "mon_tuple = (1, 2, 3, 4, 5)\n",
        "deuxieme_element = mon_tuple[1]\n",
        "print(deuxieme_element)\n"
      ],
      "metadata": {
        "colab": {
          "base_uri": "https://localhost:8080/"
        },
        "id": "r9mMjCOCRt7x",
        "outputId": "2308eeb4-a771-4c5e-9b8e-063f49e69a10"
      },
      "execution_count": 1,
      "outputs": [
        {
          "output_type": "stream",
          "name": "stdout",
          "text": [
            "2\n"
          ]
        }
      ]
    },
    {
      "cell_type": "markdown",
      "source": [
        "2. Créer un tuple et effectuer un découpage pour obtenir les trois derniers éléments.\n"
      ],
      "metadata": {
        "id": "fraUMuKmRuNu"
      }
    },
    {
      "cell_type": "code",
      "source": [
        "mon_tuple = (1, 2, 3, 4, 5, 6, 7)\n",
        "trois_derniers_elements = mon_tuple[-3:]\n",
        "print(trois_derniers_elements)\n"
      ],
      "metadata": {
        "colab": {
          "base_uri": "https://localhost:8080/"
        },
        "id": "2MbQNz-qRxgj",
        "outputId": "f7148b55-b52f-4bd2-aa0f-23e7e6243796"
      },
      "execution_count": 2,
      "outputs": [
        {
          "output_type": "stream",
          "name": "stdout",
          "text": [
            "(5, 6, 7)\n"
          ]
        }
      ]
    },
    {
      "cell_type": "markdown",
      "source": [
        "3. Concaténer deux tuples et accéder à l'élément central du tuple concaténé.\n"
      ],
      "metadata": {
        "id": "H0F-UacPRvtp"
      }
    },
    {
      "cell_type": "code",
      "source": [
        "tuple1 = (1, 2, 3)\n",
        "tuple2 = (4, 5, 6, 7, 8)\n",
        "tuple_concatene = tuple1 + tuple2\n",
        "longueur = len(tuple_concatene)\n",
        "element_central = tuple_concatene[longueur // 2]\n",
        "print(element_central)\n"
      ],
      "metadata": {
        "colab": {
          "base_uri": "https://localhost:8080/"
        },
        "id": "aUg-uaZmRx3q",
        "outputId": "3b9d6bb8-1930-49e0-c900-48078fae45da"
      },
      "execution_count": 3,
      "outputs": [
        {
          "output_type": "stream",
          "name": "stdout",
          "text": [
            "5\n"
          ]
        }
      ]
    },
    {
      "cell_type": "markdown",
      "source": [
        "4. Créer un tuple imbriqué à 3 niveau et accéder à la valeur la plus profonde.\n"
      ],
      "metadata": {
        "id": "Dh5kp3z0RyPN"
      }
    },
    {
      "cell_type": "code",
      "source": [
        "tuple_imbrique = (1, (2, (3, 4)))\n",
        "valeur_profonde = tuple_imbrique[1][1][1]\n",
        "print(valeur_profonde)\n"
      ],
      "metadata": {
        "colab": {
          "base_uri": "https://localhost:8080/"
        },
        "id": "mIGE02nhR0Em",
        "outputId": "3bb4328c-c99f-48a4-e522-8b958e46bc46"
      },
      "execution_count": 4,
      "outputs": [
        {
          "output_type": "stream",
          "name": "stdout",
          "text": [
            "4\n"
          ]
        }
      ]
    },
    {
      "cell_type": "markdown",
      "source": [
        "5. Trier un tuple de nombres.\n"
      ],
      "metadata": {
        "id": "Dz3dCB8-R0X1"
      }
    },
    {
      "cell_type": "code",
      "source": [
        "mon_tuple = (50, 20, 30, 10, 40)\n",
        "tuple_trie = tuple(sorted(mon_tuple))  # (10, 20, 30, 40, 50)\n",
        "print(tuple_trie)\n"
      ],
      "metadata": {
        "colab": {
          "base_uri": "https://localhost:8080/"
        },
        "id": "5z4MM1kKR2Fe",
        "outputId": "7601d2ef-3758-4a2a-aa9b-d7150dfcd5ea"
      },
      "execution_count": 7,
      "outputs": [
        {
          "output_type": "stream",
          "name": "stdout",
          "text": [
            "(10, 20, 30, 40, 50)\n"
          ]
        }
      ]
    },
    {
      "cell_type": "markdown",
      "source": [
        "6. Décompacter un tuple dans plusieurs variables.\n"
      ],
      "metadata": {
        "id": "39NsGJQER2UW"
      }
    },
    {
      "cell_type": "code",
      "source": [
        "mon_tuple = (1, 2, 3)\n",
        "var1, var2, var3 = mon_tuple\n",
        "print(var1, var2, var3)\n"
      ],
      "metadata": {
        "colab": {
          "base_uri": "https://localhost:8080/"
        },
        "id": "erK08dvdR3o2",
        "outputId": "8c5c777b-fe63-45ce-dbb6-6285faebc4c5"
      },
      "execution_count": 8,
      "outputs": [
        {
          "output_type": "stream",
          "name": "stdout",
          "text": [
            "1 2 3\n"
          ]
        }
      ]
    },
    {
      "cell_type": "markdown",
      "source": [
        "7. Créer un tuple avec des chaînes de caractères et découper pour obtenir les deux premiers caractères du premier élément.\n"
      ],
      "metadata": {
        "id": "bkBV4RlQR36w"
      }
    },
    {
      "cell_type": "code",
      "source": [
        "mon_tuple = (\"hello\", \"world\", \"python\")\n",
        "premier_element = mon_tuple[0]\n",
        "deux_premiers_caracteres = premier_element[:2]\n",
        "print(deux_premiers_caracteres)\n"
      ],
      "metadata": {
        "colab": {
          "base_uri": "https://localhost:8080/"
        },
        "id": "L3kp49ZJSX43",
        "outputId": "8ea34b3e-55ed-406d-c45a-d199bff33864"
      },
      "execution_count": 12,
      "outputs": [
        {
          "output_type": "stream",
          "name": "stdout",
          "text": [
            "he\n"
          ]
        }
      ]
    },
    {
      "cell_type": "markdown",
      "source": [
        "8. Extraire et imprimer le dernier élément d'un tuple en utilisant l'indexation négative."
      ],
      "metadata": {
        "id": "jQjAjADUR5Zd"
      }
    },
    {
      "cell_type": "code",
      "source": [
        "mon_tuple = (1, 2, 3, 4, 5)\n",
        "dernier_element = mon_tuple[-1]\n",
        "print(dernier_element)\n"
      ],
      "metadata": {
        "id": "orP4-F-NR6Og"
      },
      "execution_count": null,
      "outputs": []
    }
  ]
}
{
  "nbformat": 4,
  "nbformat_minor": 0,
  "metadata": {
    "colab": {
      "provenance": []
    },
    "kernelspec": {
      "name": "python3",
      "display_name": "Python 3"
    },
    "language_info": {
      "name": "python"
    }
  },
  "cells": [
    {
      "cell_type": "markdown",
      "source": [
        "# Boucles en Python : `for` et `while`\n",
        "\n",
        "Les boucles permettent de répéter un bloc de code plusieurs fois jusqu'à ce qu'une condition spécifique soit remplie. En Python, il existe deux types de boucles principales : les boucles `for` et les boucles `while`.\n",
        "\n",
        "## La Boucle `for`\n",
        "\n",
        "La boucle for est utilisée lorsque vous savez à l'avance combien de fois vous devez exécuter un morceau de code. Elle itère sur une séquence (comme une liste, un tuple, un set, un dictionnaire, ou une chaîne de caractères) ou sur une plage de nombres.\n",
        "\n",
        "**Syntaxe : **\n",
        "\n",
        "```\n",
        "for variable in séquence:\n",
        "    # Bloc de code à exécuter\n",
        "```\n",
        "\n",
        "Exemple 1 : Utilisation de `range()` avec une Boucle for\n",
        "\n",
        "La fonction `range()` génère une séquence de nombres sur laquelle la boucle peut itérer. Elle est souvent utilisée lorsque vous avez besoin d'itérer un nombre spécifique de fois.\n",
        "\n",
        "**Exemple :**"
      ],
      "metadata": {
        "id": "s76p2zxmVR5c"
      }
    },
    {
      "cell_type": "code",
      "source": [
        "# Itérer de 0 à 4\n",
        "for i in range(5):\n",
        "    print(i)"
      ],
      "metadata": {
        "colab": {
          "base_uri": "https://localhost:8080/"
        },
        "id": "Lb6LLpFEWPrP",
        "outputId": "cd20ab5e-d29a-4a8d-b9c7-3007ad5f9526"
      },
      "execution_count": 1,
      "outputs": [
        {
          "output_type": "stream",
          "name": "stdout",
          "text": [
            "0\n",
            "1\n",
            "2\n",
            "3\n",
            "4\n"
          ]
        }
      ]
    },
    {
      "cell_type": "markdown",
      "source": [
        "Dans cet exemple, la boucle `for` s'exécute 5 fois et `i` prend les valeurs de 0 à 4. La fonction `range(5)` génère une séquence de nombres allant de 0 à 4.\n",
        "\n",
        "### Quand Utiliser une Boucle for\n",
        "\n",
        "- Lorsque vous devez parcourir les éléments d'une séquence (liste, tuple, chaîne de caractères, etc.).\n",
        "- Lorsque vous avez un nombre d'itérations connu ou un intervalle fixe sur lequel itérer.\n",
        "- Lorsque vous devez parcourir un ensemble d'éléments sans nécessairement vérifier une condition spécifique.\n",
        "\n",
        "### Comment Fonctionne l'Itération (Exemple Vivant)\n",
        "\n",
        "Prenons l'exemple d'une liste de fruits et voyons comment une boucle for itère à travers chaque élément :"
      ],
      "metadata": {
        "id": "a5CK6FpmWSPM"
      }
    },
    {
      "cell_type": "code",
      "source": [
        "fruits = ['pomme', 'banane', 'cerise']\n",
        "for fruit in fruits:\n",
        "    print(fruit)"
      ],
      "metadata": {
        "colab": {
          "base_uri": "https://localhost:8080/"
        },
        "id": "sTP0KYJ7WRL9",
        "outputId": "495c8eb9-74be-4f19-df4b-79d45cb0b41f"
      },
      "execution_count": 2,
      "outputs": [
        {
          "output_type": "stream",
          "name": "stdout",
          "text": [
            "pomme\n",
            "banane\n",
            "cerise\n"
          ]
        }
      ]
    },
    {
      "cell_type": "markdown",
      "source": [
        "- À chaque itération, l'élément suivant de la liste est assigné à la variable `fruit`, puis le bloc de code (ici, `print(fruit)`) est exécuté.\n",
        "- L'itération continue jusqu'à ce que tous les éléments aient été parcourus.\n",
        "\n",
        "### Différentes Façons de Définir une Boucle for\n",
        "\n",
        "**Itération sur une liste :**"
      ],
      "metadata": {
        "id": "GiuJaiY9XGA0"
      }
    },
    {
      "cell_type": "code",
      "source": [
        "for element in [1, 2, 3, 4]:\n",
        "    print(element)"
      ],
      "metadata": {
        "colab": {
          "base_uri": "https://localhost:8080/"
        },
        "id": "dVVkQ755XVlO",
        "outputId": "0857fc3d-6b3c-4d8e-a001-862526689945"
      },
      "execution_count": 3,
      "outputs": [
        {
          "output_type": "stream",
          "name": "stdout",
          "text": [
            "1\n",
            "2\n",
            "3\n",
            "4\n"
          ]
        }
      ]
    },
    {
      "cell_type": "markdown",
      "source": [
        "**Itération sur une chaîne de caractères :**"
      ],
      "metadata": {
        "id": "rSOGijq4XYRL"
      }
    },
    {
      "cell_type": "code",
      "source": [
        "for lettre in \"Python\":\n",
        "    print(lettre)"
      ],
      "metadata": {
        "colab": {
          "base_uri": "https://localhost:8080/"
        },
        "id": "HkwXXGnyXWvI",
        "outputId": "1f83e023-d1bd-4d91-df95-00b67a5ab919"
      },
      "execution_count": 4,
      "outputs": [
        {
          "output_type": "stream",
          "name": "stdout",
          "text": [
            "P\n",
            "y\n",
            "t\n",
            "h\n",
            "o\n",
            "n\n"
          ]
        }
      ]
    },
    {
      "cell_type": "markdown",
      "source": [
        "**Itération sur un dictionnaire :**"
      ],
      "metadata": {
        "id": "rlWPgUhGXdqL"
      }
    },
    {
      "cell_type": "code",
      "source": [
        "mon_dict = {'nom': 'Alice', 'âge': 25}\n",
        "for clé, valeur in mon_dict.items():\n",
        "    print(clé, valeur)"
      ],
      "metadata": {
        "colab": {
          "base_uri": "https://localhost:8080/"
        },
        "id": "TZE1Pu2PXaeG",
        "outputId": "4e5746e3-a7cf-41ce-d26e-d11258870750"
      },
      "execution_count": 6,
      "outputs": [
        {
          "output_type": "stream",
          "name": "stdout",
          "text": [
            "nom Alice\n",
            "âge 25\n"
          ]
        }
      ]
    },
    {
      "cell_type": "markdown",
      "source": [
        "**Utilisation de `range()` avec un pas :**"
      ],
      "metadata": {
        "id": "qeBKOiRXXhhw"
      }
    },
    {
      "cell_type": "code",
      "source": [
        "for i in range(0, 10, 2):  # Itération avec un pas de 2\n",
        "    print(i)"
      ],
      "metadata": {
        "id": "jVwBtiGKXg8_"
      },
      "execution_count": null,
      "outputs": []
    },
    {
      "cell_type": "markdown",
      "source": [
        "### Opérations Connexes avec la Boucle for\n",
        "\n",
        "1. `break` : Interrompt la boucle et sort immédiatement."
      ],
      "metadata": {
        "id": "Z3sSKInYXpSg"
      }
    },
    {
      "cell_type": "code",
      "source": [
        "for i in range(5):\n",
        "    if i == 3:\n",
        "        break\n",
        "    print(i)  # Sort de la boucle lorsque i est égal à 3"
      ],
      "metadata": {
        "id": "XhDg9T2BXt2i"
      },
      "execution_count": null,
      "outputs": []
    },
    {
      "cell_type": "markdown",
      "source": [
        "2. `continue` : Saute à l'itération suivante, en ignorant le reste du bloc de code."
      ],
      "metadata": {
        "id": "CGP8Tu2gXvf4"
      }
    },
    {
      "cell_type": "code",
      "source": [
        "for i in range(5):\n",
        "    if i == 2:\n",
        "        continue\n",
        "    print(i)  # Ignore le `print` lorsque i est égal à 2"
      ],
      "metadata": {
        "id": "j9ysd11XXyma"
      },
      "execution_count": null,
      "outputs": []
    },
    {
      "cell_type": "markdown",
      "source": [
        "## La Boucle while\n",
        "\n",
        "La boucle while s'exécute tant qu'une condition donnée est vraie. Contrairement à la boucle for, la boucle while continue d'exécuter le bloc de code tant que la condition reste vraie, sans savoir combien d'itérations seront nécessaires à l'avance.\n",
        "\n",
        "**Syntaxe :**\n",
        "\n",
        "```\n",
        "while condition:\n",
        "    # Bloc de code à exécuter\n",
        "```\n",
        "\n",
        "**Exemple de Boucle `while`:**"
      ],
      "metadata": {
        "id": "MiKHkttmYBPP"
      }
    },
    {
      "cell_type": "code",
      "source": [
        "i = 0\n",
        "while i < 5:\n",
        "    print(i)\n",
        "    i += 1"
      ],
      "metadata": {
        "colab": {
          "base_uri": "https://localhost:8080/"
        },
        "id": "AJt8Af5lYPeB",
        "outputId": "afc51a35-c2a1-46ac-b85c-397e5bbb442c"
      },
      "execution_count": 7,
      "outputs": [
        {
          "output_type": "stream",
          "name": "stdout",
          "text": [
            "0\n",
            "1\n",
            "2\n",
            "3\n",
            "4\n"
          ]
        }
      ]
    },
    {
      "cell_type": "markdown",
      "source": [
        "Dans cet exemple, la boucle `while` continue tant que la valeur de `i` est inférieure à 5. À chaque itération, `i` est incrémenté de 1, et la boucle s'arrête lorsque `i` atteint 5.\n",
        "\n",
        "### Quand Utiliser une Boucle `while`\n",
        "\n",
        "- Lorsque vous ne savez pas combien de fois vous devrez exécuter le bloc de code.\n",
        "- Lorsque vous voulez que l'exécution continue jusqu'à ce qu'une condition particulière devienne fausse.\n",
        "- Lorsque vous avez besoin d'un contrôle manuel sur le moment où la boucle doit s'arrêter.\n",
        "\n",
        "### Qu'est-ce que l'Itération ?\n",
        "\n",
        "Une itération est un passage à travers le bloc de code dans une boucle. À chaque itération, la boucle exécute le bloc de code jusqu'à ce que la condition d'arrêt soit remplie ou que tous les éléments aient été parcourus.\n",
        "\n",
        "### Condition d'Arrêt dans une Boucle `while`\n",
        "\n",
        "La condition d'arrêt est une condition qui, lorsqu'elle devient fausse, interrompt l'exécution de la boucle `while`. Dans l'exemple précédent, la condition d'arrêt est `i < 5`. Une fois que i atteint 5, la boucle s'arrête automatiquement.\n",
        "\n",
        "# Exercices de Programmation avec des Boucles `for`\n",
        "\n",
        "1. Parcours d'une liste de prix pour calculer le total `liste = [10,22,23,45,67]`\n",
        "2. Lister tous les fichiers dans un dossier : `fichiers = [\"document1.txt\", \"photo.jpg\", \"presentation.ppt\"]`\n",
        "3. Itérer sur les 100 premiers entiers naturel et afficher uniquement les nombres pairs\n",
        "4. Calculer la somme des carrés d'une liste de 100 premiers entiers naturel\n",
        "5. Trouver le mot le plus long dans une liste de mots : `mots = [\"apple\", \"banana\", \"strawberry\", \"grape\"]`\n",
        "\n",
        "# Exercices de Programmation avec des Boucles `while`\n",
        "\n",
        "1. Définir un nombre entre 0 et 100 et demander à un utilisateur de deviner le nombre et d'entrer le nombre jusqu'à ce qu'il entre le bon nombre. L'utilisateur a maximum 10 chances.\n",
        "2. Simuler un compte bancaire qui continue de débiter jusqu'à ce que le solde soit insuffisant. `solde= 100`\n",
        "3. Compter combien de fois un nombre est divisible par 2 avant de ne plus être divisible. `nombre = 64`\n",
        "4. Calculer combien de mois sont nécessaires pour rembourser un prêt en effectuant des paiements mensuels\n",
        "```\n",
        "dette = 1000\n",
        "paiement_mensuel = 100\n",
        "```"
      ],
      "metadata": {
        "id": "ihRR9gjnYTEw"
      }
    },
    {
      "cell_type": "code",
      "source": [],
      "metadata": {
        "id": "02Yw-KjUYQrG"
      },
      "execution_count": null,
      "outputs": []
    }
  ]
}